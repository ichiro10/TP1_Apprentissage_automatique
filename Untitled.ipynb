{
 "cells": [
  {
   "cell_type": "code",
   "execution_count": null,
   "id": "f33cbbae",
   "metadata": {},
   "outputs": [],
   "source": []
  },
  {
   "cell_type": "code",
   "execution_count": 12,
   "id": "3d336b93",
   "metadata": {
    "tags": []
   },
   "outputs": [
    {
     "name": "stdout",
     "output_type": "stream",
     "text": [
      "    Area  Perimeter  MajorAxisLength  MinorAxisLength  AspectRation  \\\n",
      "0  28395    610.291       208.178117       173.888747      1.197191   \n",
      "1  28734    638.018       200.524796       182.734419      1.097356   \n",
      "2  29380    624.110       212.826130       175.931143      1.209713   \n",
      "3  30008    645.884       210.557999       182.516516      1.153638   \n",
      "4  30140    620.134       201.847882       190.279279      1.060798   \n",
      "\n",
      "   Eccentricity  ConvexArea  EquivDiameter    Extent  Solidity  roundness  \\\n",
      "0      0.549812       28715     190.141097  0.763923  0.988856   0.958027   \n",
      "1      0.411785       29172     191.272751  0.783968  0.984986   0.887034   \n",
      "2      0.562727       29690     193.410904  0.778113  0.989559   0.947849   \n",
      "3      0.498616       30724     195.467062  0.782681  0.976696   0.903936   \n",
      "4      0.333680       30417     195.896503  0.773098  0.990893   0.984877   \n",
      "\n",
      "   Compactness  ShapeFactor1  ShapeFactor2  ShapeFactor3  ShapeFactor4  Class  \n",
      "0     0.913358      0.007332      0.003147      0.834222      0.998724  SEKER  \n",
      "1     0.953861      0.006979      0.003564      0.909851      0.998430  SEKER  \n",
      "2     0.908774      0.007244      0.003048      0.825871      0.999066  SEKER  \n",
      "3     0.928329      0.007017      0.003215      0.861794      0.994199  SEKER  \n",
      "4     0.970516      0.006697      0.003665      0.941900      0.999166  SEKER  \n"
     ]
    }
   ],
   "source": [
    "# Importer les bibliothèques\n",
    "import pandas as pd\n",
    "import numpy as np\n",
    "import matplotlib.pyplot as plt\n",
    "# Lire le fichier csv dans un dataframe pandas\n",
    "df = pd.read_csv(\"C:/Users/erimo/Downloads/Dry_Bean_Dataset.csv\")\n",
    "\n",
    "#df = pd.read_excel(nom_du_fichier_excel)\n",
    "# Afficher les premières lignes\n",
    "print(df.head())"
   ]
  },
  {
   "cell_type": "code",
   "execution_count": 13,
   "id": "662d4641",
   "metadata": {
    "tags": []
   },
   "outputs": [
    {
     "data": {
      "text/plain": [
       "(13611, 17)"
      ]
     },
     "execution_count": 13,
     "metadata": {},
     "output_type": "execute_result"
    }
   ],
   "source": [
    "df.shape"
   ]
  },
  {
   "cell_type": "code",
   "execution_count": 14,
   "id": "0c3a348f",
   "metadata": {
    "tags": []
   },
   "outputs": [
    {
     "data": {
      "text/plain": [
       "0        28395\n",
       "1        28734\n",
       "2        29380\n",
       "3        30008\n",
       "4        30140\n",
       "         ...  \n",
       "13606    42097\n",
       "13607    42101\n",
       "13608    42139\n",
       "13609    42147\n",
       "13610    42159\n",
       "Name: Area, Length: 13611, dtype: int64"
      ]
     },
     "execution_count": 14,
     "metadata": {},
     "output_type": "execute_result"
    }
   ],
   "source": [
    "df[\"Area\"]"
   ]
  },
  {
   "cell_type": "code",
   "execution_count": 2,
   "id": "30f299a5",
   "metadata": {
    "tags": []
   },
   "outputs": [
    {
     "name": "stdout",
     "output_type": "stream",
     "text": [
      "0        False\n",
      "1        False\n",
      "2        False\n",
      "3        False\n",
      "4        False\n",
      "         ...  \n",
      "13606    False\n",
      "13607    False\n",
      "13608    False\n",
      "13609    False\n",
      "13610    False\n",
      "Name: Area, Length: 13611, dtype: bool\n"
     ]
    }
   ],
   "source": [
    "print(df['Area'].isnull())"
   ]
  },
  {
   "cell_type": "code",
   "execution_count": 15,
   "id": "378b5b60",
   "metadata": {
    "tags": []
   },
   "outputs": [
    {
     "name": "stdout",
     "output_type": "stream",
     "text": [
      "False\n"
     ]
    }
   ],
   "source": [
    "print(df.isnull().values.any())"
   ]
  },
  {
   "cell_type": "code",
   "execution_count": 6,
   "id": "58f26db6",
   "metadata": {
    "tags": []
   },
   "outputs": [
    {
     "name": "stdout",
     "output_type": "stream",
     "text": [
      "0\n"
     ]
    }
   ],
   "source": [
    "#Nombre total de valeurs manquantes\n",
    "print(df.isnull().sum().sum())\n"
   ]
  },
  {
   "cell_type": "code",
   "execution_count": 16,
   "id": "cde05db5",
   "metadata": {
    "tags": []
   },
   "outputs": [
    {
     "name": "stdout",
     "output_type": "stream",
     "text": [
      "0 missed values detected in feature Area\n",
      "0 missed values detected in feature Perimeter\n",
      "0 missed values detected in feature MajorAxisLength\n",
      "0 missed values detected in feature MinorAxisLength\n",
      "0 missed values detected in feature AspectRation\n",
      "0 missed values detected in feature Eccentricity\n",
      "0 missed values detected in feature ConvexArea\n",
      "0 missed values detected in feature EquivDiameter\n",
      "0 missed values detected in feature Extent\n",
      "0 missed values detected in feature Solidity\n",
      "0 missed values detected in feature roundness\n",
      "0 missed values detected in feature Compactness\n",
      "0 missed values detected in feature ShapeFactor1\n",
      "0 missed values detected in feature ShapeFactor2\n",
      "0 missed values detected in feature ShapeFactor3\n",
      "0 missed values detected in feature ShapeFactor4\n"
     ]
    }
   ],
   "source": [
    "features = ['Area','Perimeter','MajorAxisLength','MinorAxisLength','AspectRation', 'Eccentricity','ConvexArea','EquivDiameter','Extent','Solidity','roundness','Compactness' ,'ShapeFactor1', 'ShapeFactor2' , 'ShapeFactor3',  'ShapeFactor4']\n",
    "for feature in features: \n",
    "    nan = 0\n",
    "    if feature in ['Area','ConvexArea']:\n",
    "        for row in df[feature]:      \n",
    "            if not isinstance(row, int):\n",
    "                nan+=1\n",
    "        print(nan,\"missed values detected in feature\", feature)\n",
    "    else:\n",
    "        for row in df[feature]: \n",
    "            if not isinstance(row, float):\n",
    "                nan+=1\n",
    "        print(nan,\"missed values detected in feature\", feature)\n",
    "    "
   ]
  },
  {
   "cell_type": "code",
   "execution_count": 7,
   "id": "dd89b03f",
   "metadata": {
    "tags": []
   },
   "outputs": [
    {
     "name": "stdout",
     "output_type": "stream",
     "text": [
      "254616 20420\n"
     ]
    }
   ],
   "source": [
    "#PCA \n",
    "xmax = np.max(df['Area'])\n",
    "xmin = np.min(df['Area'])\n",
    "print(xmax, xmin)"
   ]
  },
  {
   "cell_type": "code",
   "execution_count": 17,
   "id": "3fe7ca56",
   "metadata": {
    "tags": []
   },
   "outputs": [],
   "source": [
    "del df['Class']\n"
   ]
  },
  {
   "cell_type": "code",
   "execution_count": 11,
   "id": "3ab7888a",
   "metadata": {
    "tags": []
   },
   "outputs": [
    {
     "data": {
      "text/html": [
       "<div>\n",
       "<style scoped>\n",
       "    .dataframe tbody tr th:only-of-type {\n",
       "        vertical-align: middle;\n",
       "    }\n",
       "\n",
       "    .dataframe tbody tr th {\n",
       "        vertical-align: top;\n",
       "    }\n",
       "\n",
       "    .dataframe thead th {\n",
       "        text-align: right;\n",
       "    }\n",
       "</style>\n",
       "<table border=\"1\" class=\"dataframe\">\n",
       "  <thead>\n",
       "    <tr style=\"text-align: right;\">\n",
       "      <th></th>\n",
       "      <th>Area</th>\n",
       "      <th>Perimeter</th>\n",
       "      <th>MajorAxisLength</th>\n",
       "      <th>MinorAxisLength</th>\n",
       "      <th>AspectRation</th>\n",
       "      <th>Eccentricity</th>\n",
       "      <th>ConvexArea</th>\n",
       "      <th>EquivDiameter</th>\n",
       "      <th>Extent</th>\n",
       "      <th>Solidity</th>\n",
       "      <th>roundness</th>\n",
       "      <th>Compactness</th>\n",
       "      <th>ShapeFactor1</th>\n",
       "      <th>ShapeFactor2</th>\n",
       "      <th>ShapeFactor3</th>\n",
       "      <th>ShapeFactor4</th>\n",
       "    </tr>\n",
       "  </thead>\n",
       "  <tbody>\n",
       "    <tr>\n",
       "      <th>0</th>\n",
       "      <td>28395</td>\n",
       "      <td>610.291</td>\n",
       "      <td>208.178117</td>\n",
       "      <td>173.888747</td>\n",
       "      <td>1.197191</td>\n",
       "      <td>0.549812</td>\n",
       "      <td>28715</td>\n",
       "      <td>190.141097</td>\n",
       "      <td>0.763923</td>\n",
       "      <td>0.988856</td>\n",
       "      <td>0.958027</td>\n",
       "      <td>0.913358</td>\n",
       "      <td>0.007332</td>\n",
       "      <td>0.003147</td>\n",
       "      <td>0.834222</td>\n",
       "      <td>0.998724</td>\n",
       "    </tr>\n",
       "    <tr>\n",
       "      <th>1</th>\n",
       "      <td>28734</td>\n",
       "      <td>638.018</td>\n",
       "      <td>200.524796</td>\n",
       "      <td>182.734419</td>\n",
       "      <td>1.097356</td>\n",
       "      <td>0.411785</td>\n",
       "      <td>29172</td>\n",
       "      <td>191.272750</td>\n",
       "      <td>0.783968</td>\n",
       "      <td>0.984986</td>\n",
       "      <td>0.887034</td>\n",
       "      <td>0.953861</td>\n",
       "      <td>0.006979</td>\n",
       "      <td>0.003564</td>\n",
       "      <td>0.909851</td>\n",
       "      <td>0.998430</td>\n",
       "    </tr>\n",
       "    <tr>\n",
       "      <th>2</th>\n",
       "      <td>29380</td>\n",
       "      <td>624.110</td>\n",
       "      <td>212.826130</td>\n",
       "      <td>175.931143</td>\n",
       "      <td>1.209713</td>\n",
       "      <td>0.562727</td>\n",
       "      <td>29690</td>\n",
       "      <td>193.410904</td>\n",
       "      <td>0.778113</td>\n",
       "      <td>0.989559</td>\n",
       "      <td>0.947849</td>\n",
       "      <td>0.908774</td>\n",
       "      <td>0.007244</td>\n",
       "      <td>0.003048</td>\n",
       "      <td>0.825871</td>\n",
       "      <td>0.999066</td>\n",
       "    </tr>\n",
       "    <tr>\n",
       "      <th>3</th>\n",
       "      <td>30008</td>\n",
       "      <td>645.884</td>\n",
       "      <td>210.557999</td>\n",
       "      <td>182.516516</td>\n",
       "      <td>1.153638</td>\n",
       "      <td>0.498616</td>\n",
       "      <td>30724</td>\n",
       "      <td>195.467062</td>\n",
       "      <td>0.782681</td>\n",
       "      <td>0.976696</td>\n",
       "      <td>0.903936</td>\n",
       "      <td>0.928329</td>\n",
       "      <td>0.007017</td>\n",
       "      <td>0.003215</td>\n",
       "      <td>0.861794</td>\n",
       "      <td>0.994199</td>\n",
       "    </tr>\n",
       "    <tr>\n",
       "      <th>4</th>\n",
       "      <td>30140</td>\n",
       "      <td>620.134</td>\n",
       "      <td>201.847882</td>\n",
       "      <td>190.279279</td>\n",
       "      <td>1.060798</td>\n",
       "      <td>0.333680</td>\n",
       "      <td>30417</td>\n",
       "      <td>195.896503</td>\n",
       "      <td>0.773098</td>\n",
       "      <td>0.990893</td>\n",
       "      <td>0.984877</td>\n",
       "      <td>0.970516</td>\n",
       "      <td>0.006697</td>\n",
       "      <td>0.003665</td>\n",
       "      <td>0.941900</td>\n",
       "      <td>0.999166</td>\n",
       "    </tr>\n",
       "    <tr>\n",
       "      <th>...</th>\n",
       "      <td>...</td>\n",
       "      <td>...</td>\n",
       "      <td>...</td>\n",
       "      <td>...</td>\n",
       "      <td>...</td>\n",
       "      <td>...</td>\n",
       "      <td>...</td>\n",
       "      <td>...</td>\n",
       "      <td>...</td>\n",
       "      <td>...</td>\n",
       "      <td>...</td>\n",
       "      <td>...</td>\n",
       "      <td>...</td>\n",
       "      <td>...</td>\n",
       "      <td>...</td>\n",
       "      <td>...</td>\n",
       "    </tr>\n",
       "    <tr>\n",
       "      <th>13606</th>\n",
       "      <td>42097</td>\n",
       "      <td>759.696</td>\n",
       "      <td>288.721612</td>\n",
       "      <td>185.944705</td>\n",
       "      <td>1.552728</td>\n",
       "      <td>0.765002</td>\n",
       "      <td>42508</td>\n",
       "      <td>231.515799</td>\n",
       "      <td>0.714574</td>\n",
       "      <td>0.990331</td>\n",
       "      <td>0.916603</td>\n",
       "      <td>0.801865</td>\n",
       "      <td>0.006858</td>\n",
       "      <td>0.001749</td>\n",
       "      <td>0.642988</td>\n",
       "      <td>0.998385</td>\n",
       "    </tr>\n",
       "    <tr>\n",
       "      <th>13607</th>\n",
       "      <td>42101</td>\n",
       "      <td>757.499</td>\n",
       "      <td>281.576392</td>\n",
       "      <td>190.713136</td>\n",
       "      <td>1.476439</td>\n",
       "      <td>0.735702</td>\n",
       "      <td>42494</td>\n",
       "      <td>231.526798</td>\n",
       "      <td>0.799943</td>\n",
       "      <td>0.990752</td>\n",
       "      <td>0.922015</td>\n",
       "      <td>0.822252</td>\n",
       "      <td>0.006688</td>\n",
       "      <td>0.001886</td>\n",
       "      <td>0.676099</td>\n",
       "      <td>0.998219</td>\n",
       "    </tr>\n",
       "    <tr>\n",
       "      <th>13608</th>\n",
       "      <td>42139</td>\n",
       "      <td>759.321</td>\n",
       "      <td>281.539928</td>\n",
       "      <td>191.187979</td>\n",
       "      <td>1.472582</td>\n",
       "      <td>0.734065</td>\n",
       "      <td>42569</td>\n",
       "      <td>231.631261</td>\n",
       "      <td>0.729932</td>\n",
       "      <td>0.989899</td>\n",
       "      <td>0.918424</td>\n",
       "      <td>0.822730</td>\n",
       "      <td>0.006681</td>\n",
       "      <td>0.001888</td>\n",
       "      <td>0.676884</td>\n",
       "      <td>0.996767</td>\n",
       "    </tr>\n",
       "    <tr>\n",
       "      <th>13609</th>\n",
       "      <td>42147</td>\n",
       "      <td>763.779</td>\n",
       "      <td>283.382636</td>\n",
       "      <td>190.275731</td>\n",
       "      <td>1.489326</td>\n",
       "      <td>0.741055</td>\n",
       "      <td>42667</td>\n",
       "      <td>231.653248</td>\n",
       "      <td>0.705389</td>\n",
       "      <td>0.987813</td>\n",
       "      <td>0.907906</td>\n",
       "      <td>0.817457</td>\n",
       "      <td>0.006724</td>\n",
       "      <td>0.001852</td>\n",
       "      <td>0.668237</td>\n",
       "      <td>0.995222</td>\n",
       "    </tr>\n",
       "    <tr>\n",
       "      <th>13610</th>\n",
       "      <td>42159</td>\n",
       "      <td>772.237</td>\n",
       "      <td>295.142741</td>\n",
       "      <td>182.204716</td>\n",
       "      <td>1.619841</td>\n",
       "      <td>0.786693</td>\n",
       "      <td>42600</td>\n",
       "      <td>231.686223</td>\n",
       "      <td>0.788962</td>\n",
       "      <td>0.989648</td>\n",
       "      <td>0.888380</td>\n",
       "      <td>0.784997</td>\n",
       "      <td>0.007001</td>\n",
       "      <td>0.001640</td>\n",
       "      <td>0.616221</td>\n",
       "      <td>0.998180</td>\n",
       "    </tr>\n",
       "  </tbody>\n",
       "</table>\n",
       "<p>13611 rows × 16 columns</p>\n",
       "</div>"
      ],
      "text/plain": [
       "        Area  Perimeter  MajorAxisLength  MinorAxisLength  AspectRation  \\\n",
       "0      28395    610.291       208.178117       173.888747      1.197191   \n",
       "1      28734    638.018       200.524796       182.734419      1.097356   \n",
       "2      29380    624.110       212.826130       175.931143      1.209713   \n",
       "3      30008    645.884       210.557999       182.516516      1.153638   \n",
       "4      30140    620.134       201.847882       190.279279      1.060798   \n",
       "...      ...        ...              ...              ...           ...   \n",
       "13606  42097    759.696       288.721612       185.944705      1.552728   \n",
       "13607  42101    757.499       281.576392       190.713136      1.476439   \n",
       "13608  42139    759.321       281.539928       191.187979      1.472582   \n",
       "13609  42147    763.779       283.382636       190.275731      1.489326   \n",
       "13610  42159    772.237       295.142741       182.204716      1.619841   \n",
       "\n",
       "       Eccentricity  ConvexArea  EquivDiameter    Extent  Solidity  roundness  \\\n",
       "0          0.549812       28715     190.141097  0.763923  0.988856   0.958027   \n",
       "1          0.411785       29172     191.272750  0.783968  0.984986   0.887034   \n",
       "2          0.562727       29690     193.410904  0.778113  0.989559   0.947849   \n",
       "3          0.498616       30724     195.467062  0.782681  0.976696   0.903936   \n",
       "4          0.333680       30417     195.896503  0.773098  0.990893   0.984877   \n",
       "...             ...         ...            ...       ...       ...        ...   \n",
       "13606      0.765002       42508     231.515799  0.714574  0.990331   0.916603   \n",
       "13607      0.735702       42494     231.526798  0.799943  0.990752   0.922015   \n",
       "13608      0.734065       42569     231.631261  0.729932  0.989899   0.918424   \n",
       "13609      0.741055       42667     231.653248  0.705389  0.987813   0.907906   \n",
       "13610      0.786693       42600     231.686223  0.788962  0.989648   0.888380   \n",
       "\n",
       "       Compactness  ShapeFactor1  ShapeFactor2  ShapeFactor3  ShapeFactor4  \n",
       "0         0.913358      0.007332      0.003147      0.834222      0.998724  \n",
       "1         0.953861      0.006979      0.003564      0.909851      0.998430  \n",
       "2         0.908774      0.007244      0.003048      0.825871      0.999066  \n",
       "3         0.928329      0.007017      0.003215      0.861794      0.994199  \n",
       "4         0.970516      0.006697      0.003665      0.941900      0.999166  \n",
       "...            ...           ...           ...           ...           ...  \n",
       "13606     0.801865      0.006858      0.001749      0.642988      0.998385  \n",
       "13607     0.822252      0.006688      0.001886      0.676099      0.998219  \n",
       "13608     0.822730      0.006681      0.001888      0.676884      0.996767  \n",
       "13609     0.817457      0.006724      0.001852      0.668237      0.995222  \n",
       "13610     0.784997      0.007001      0.001640      0.616221      0.998180  \n",
       "\n",
       "[13611 rows x 16 columns]"
      ]
     },
     "execution_count": 11,
     "metadata": {},
     "output_type": "execute_result"
    }
   ],
   "source": [
    "df"
   ]
  },
  {
   "cell_type": "code",
   "execution_count": 18,
   "id": "4f0842f2",
   "metadata": {},
   "outputs": [
    {
     "data": {
      "image/png": "[encoded data removed]",
      "text/plain": [
       "<Figure size 1600x1200 with 16 Axes>"
      ]
     },
     "metadata": {},
     "output_type": "display_data"
    }
   ],
   "source": [
    "# Liste des noms de colonnes\n",
    "variables = ['Area', 'Perimeter', 'MajorAxisLength', 'MinorAxisLength', 'AspectRation', 'Eccentricity',\n",
    "             'ConvexArea', 'EquivDiameter', 'Extent', 'Solidity', 'roundness', 'Compactness',\n",
    "             'ShapeFactor1', 'ShapeFactor2', 'ShapeFactor3', 'ShapeFactor4']\n",
    "\n",
    "# Créez un sous-tracé pour chaque variable\n",
    "fig, axes = plt.subplots(nrows=4, ncols=4, figsize=(16, 12))\n",
    "fig.subplots_adjust(hspace=0.5)\n",
    "\n",
    "for i, var in enumerate(variables):\n",
    "    row, col = divmod(i, 4)\n",
    "    ax = axes[row, col]\n",
    "    ax.boxplot(df[var])# Vous pouvez ajuster le nombre de bacs (bins) selon vos besoins.\n",
    "    ax.set_title(var)\n",
    "    ax.set_xlabel('Valeur')\n",
    "    ax.set_ylabel('Fréquence')\n",
    "\n",
    "# Affichez les graphiques\n",
    "plt.show()"
   ]
  },
  {
   "cell_type": "code",
   "execution_count": 29,
   "id": "bf1d6621",
   "metadata": {
    "tags": []
   },
   "outputs": [],
   "source": [
    "# Perform Min-Max scaling\n",
    "df = (df - df.min()) / (df.max() - df.min())"
   ]
  },
  {
   "cell_type": "code",
   "execution_count": 19,
   "id": "60c9b532",
   "metadata": {
    "tags": []
   },
   "outputs": [
    {
     "data": {
      "text/plain": [
       "Area               53048.284549\n",
       "Perimeter            855.283459\n",
       "MajorAxisLength      320.141867\n",
       "MinorAxisLength      202.270714\n",
       "AspectRation           1.583242\n",
       "Eccentricity           0.750895\n",
       "ConvexArea         53768.200206\n",
       "EquivDiameter        253.064220\n",
       "Extent                 0.749733\n",
       "Solidity               0.987143\n",
       "roundness              0.873282\n",
       "Compactness            0.799864\n",
       "ShapeFactor1           0.006564\n",
       "ShapeFactor2           0.001716\n",
       "ShapeFactor3           0.643590\n",
       "ShapeFactor4           0.995063\n",
       "dtype: float64"
      ]
     },
     "execution_count": 19,
     "metadata": {},
     "output_type": "execute_result"
    }
   ],
   "source": [
    "df.mean()"
   ]
  },
  {
   "cell_type": "code",
   "execution_count": 20,
   "id": "1e9fa103",
   "metadata": {
    "tags": []
   },
   "outputs": [
    {
     "data": {
      "text/plain": [
       "Area               29324.095717\n",
       "Perimeter            214.289696\n",
       "MajorAxisLength       85.694186\n",
       "MinorAxisLength       44.970091\n",
       "AspectRation           0.246678\n",
       "Eccentricity           0.092002\n",
       "ConvexArea         29774.915817\n",
       "EquivDiameter         59.177120\n",
       "Extent                 0.049086\n",
       "Solidity               0.004660\n",
       "roundness              0.059520\n",
       "Compactness            0.061713\n",
       "ShapeFactor1           0.001128\n",
       "ShapeFactor2           0.000596\n",
       "ShapeFactor3           0.098996\n",
       "ShapeFactor4           0.004366\n",
       "dtype: float64"
      ]
     },
     "execution_count": 20,
     "metadata": {},
     "output_type": "execute_result"
    }
   ],
   "source": [
    "df.std()"
   ]
  },
  {
   "cell_type": "code",
   "execution_count": 21,
   "id": "abd4fa9e",
   "metadata": {
    "tags": []
   },
   "outputs": [
    {
     "data": {
      "text/html": [
       "<div>\n",
       "<style scoped>\n",
       "    .dataframe tbody tr th:only-of-type {\n",
       "        vertical-align: middle;\n",
       "    }\n",
       "\n",
       "    .dataframe tbody tr th {\n",
       "        vertical-align: top;\n",
       "    }\n",
       "\n",
       "    .dataframe thead th {\n",
       "        text-align: right;\n",
       "    }\n",
       "</style>\n",
       "<table border=\"1\" class=\"dataframe\">\n",
       "  <thead>\n",
       "    <tr style=\"text-align: right;\">\n",
       "      <th></th>\n",
       "      <th>Area</th>\n",
       "      <th>Perimeter</th>\n",
       "      <th>MajorAxisLength</th>\n",
       "      <th>MinorAxisLength</th>\n",
       "      <th>AspectRation</th>\n",
       "      <th>Eccentricity</th>\n",
       "      <th>ConvexArea</th>\n",
       "      <th>EquivDiameter</th>\n",
       "      <th>Extent</th>\n",
       "      <th>Solidity</th>\n",
       "      <th>roundness</th>\n",
       "      <th>Compactness</th>\n",
       "      <th>ShapeFactor1</th>\n",
       "      <th>ShapeFactor2</th>\n",
       "      <th>ShapeFactor3</th>\n",
       "      <th>ShapeFactor4</th>\n",
       "    </tr>\n",
       "  </thead>\n",
       "  <tbody>\n",
       "    <tr>\n",
       "      <th>0</th>\n",
       "      <td>28395</td>\n",
       "      <td>610.291</td>\n",
       "      <td>208.178117</td>\n",
       "      <td>173.888747</td>\n",
       "      <td>1.197191</td>\n",
       "      <td>0.549812</td>\n",
       "      <td>28715</td>\n",
       "      <td>190.141097</td>\n",
       "      <td>0.763923</td>\n",
       "      <td>0.988856</td>\n",
       "      <td>0.958027</td>\n",
       "      <td>0.913358</td>\n",
       "      <td>0.007332</td>\n",
       "      <td>0.003147</td>\n",
       "      <td>0.834222</td>\n",
       "      <td>0.998724</td>\n",
       "    </tr>\n",
       "    <tr>\n",
       "      <th>1</th>\n",
       "      <td>28734</td>\n",
       "      <td>638.018</td>\n",
       "      <td>200.524796</td>\n",
       "      <td>182.734419</td>\n",
       "      <td>1.097356</td>\n",
       "      <td>0.411785</td>\n",
       "      <td>29172</td>\n",
       "      <td>191.272751</td>\n",
       "      <td>0.783968</td>\n",
       "      <td>0.984986</td>\n",
       "      <td>0.887034</td>\n",
       "      <td>0.953861</td>\n",
       "      <td>0.006979</td>\n",
       "      <td>0.003564</td>\n",
       "      <td>0.909851</td>\n",
       "      <td>0.998430</td>\n",
       "    </tr>\n",
       "    <tr>\n",
       "      <th>2</th>\n",
       "      <td>29380</td>\n",
       "      <td>624.110</td>\n",
       "      <td>212.826130</td>\n",
       "      <td>175.931143</td>\n",
       "      <td>1.209713</td>\n",
       "      <td>0.562727</td>\n",
       "      <td>29690</td>\n",
       "      <td>193.410904</td>\n",
       "      <td>0.778113</td>\n",
       "      <td>0.989559</td>\n",
       "      <td>0.947849</td>\n",
       "      <td>0.908774</td>\n",
       "      <td>0.007244</td>\n",
       "      <td>0.003048</td>\n",
       "      <td>0.825871</td>\n",
       "      <td>0.999066</td>\n",
       "    </tr>\n",
       "    <tr>\n",
       "      <th>3</th>\n",
       "      <td>30008</td>\n",
       "      <td>645.884</td>\n",
       "      <td>210.557999</td>\n",
       "      <td>182.516516</td>\n",
       "      <td>1.153638</td>\n",
       "      <td>0.498616</td>\n",
       "      <td>30724</td>\n",
       "      <td>195.467062</td>\n",
       "      <td>0.782681</td>\n",
       "      <td>0.976696</td>\n",
       "      <td>0.903936</td>\n",
       "      <td>0.928329</td>\n",
       "      <td>0.007017</td>\n",
       "      <td>0.003215</td>\n",
       "      <td>0.861794</td>\n",
       "      <td>0.994199</td>\n",
       "    </tr>\n",
       "    <tr>\n",
       "      <th>4</th>\n",
       "      <td>30140</td>\n",
       "      <td>620.134</td>\n",
       "      <td>201.847882</td>\n",
       "      <td>190.279279</td>\n",
       "      <td>1.060798</td>\n",
       "      <td>0.333680</td>\n",
       "      <td>30417</td>\n",
       "      <td>195.896503</td>\n",
       "      <td>0.773098</td>\n",
       "      <td>0.990893</td>\n",
       "      <td>0.984877</td>\n",
       "      <td>0.970516</td>\n",
       "      <td>0.006697</td>\n",
       "      <td>0.003665</td>\n",
       "      <td>0.941900</td>\n",
       "      <td>0.999166</td>\n",
       "    </tr>\n",
       "    <tr>\n",
       "      <th>...</th>\n",
       "      <td>...</td>\n",
       "      <td>...</td>\n",
       "      <td>...</td>\n",
       "      <td>...</td>\n",
       "      <td>...</td>\n",
       "      <td>...</td>\n",
       "      <td>...</td>\n",
       "      <td>...</td>\n",
       "      <td>...</td>\n",
       "      <td>...</td>\n",
       "      <td>...</td>\n",
       "      <td>...</td>\n",
       "      <td>...</td>\n",
       "      <td>...</td>\n",
       "      <td>...</td>\n",
       "      <td>...</td>\n",
       "    </tr>\n",
       "    <tr>\n",
       "      <th>13606</th>\n",
       "      <td>42097</td>\n",
       "      <td>759.696</td>\n",
       "      <td>288.721612</td>\n",
       "      <td>185.944705</td>\n",
       "      <td>1.552728</td>\n",
       "      <td>0.765002</td>\n",
       "      <td>42508</td>\n",
       "      <td>231.515799</td>\n",
       "      <td>0.714574</td>\n",
       "      <td>0.990331</td>\n",
       "      <td>0.916603</td>\n",
       "      <td>0.801865</td>\n",
       "      <td>0.006858</td>\n",
       "      <td>0.001749</td>\n",
       "      <td>0.642988</td>\n",
       "      <td>0.998385</td>\n",
       "    </tr>\n",
       "    <tr>\n",
       "      <th>13607</th>\n",
       "      <td>42101</td>\n",
       "      <td>757.499</td>\n",
       "      <td>281.576392</td>\n",
       "      <td>190.713136</td>\n",
       "      <td>1.476439</td>\n",
       "      <td>0.735702</td>\n",
       "      <td>42494</td>\n",
       "      <td>231.526798</td>\n",
       "      <td>0.799943</td>\n",
       "      <td>0.990752</td>\n",
       "      <td>0.922015</td>\n",
       "      <td>0.822252</td>\n",
       "      <td>0.006688</td>\n",
       "      <td>0.001886</td>\n",
       "      <td>0.676099</td>\n",
       "      <td>0.998219</td>\n",
       "    </tr>\n",
       "    <tr>\n",
       "      <th>13608</th>\n",
       "      <td>42139</td>\n",
       "      <td>759.321</td>\n",
       "      <td>281.539928</td>\n",
       "      <td>191.187979</td>\n",
       "      <td>1.472582</td>\n",
       "      <td>0.734065</td>\n",
       "      <td>42569</td>\n",
       "      <td>231.631261</td>\n",
       "      <td>0.729932</td>\n",
       "      <td>0.989899</td>\n",
       "      <td>0.918424</td>\n",
       "      <td>0.822730</td>\n",
       "      <td>0.006681</td>\n",
       "      <td>0.001888</td>\n",
       "      <td>0.676884</td>\n",
       "      <td>0.996767</td>\n",
       "    </tr>\n",
       "    <tr>\n",
       "      <th>13609</th>\n",
       "      <td>42147</td>\n",
       "      <td>763.779</td>\n",
       "      <td>283.382636</td>\n",
       "      <td>190.275731</td>\n",
       "      <td>1.489326</td>\n",
       "      <td>0.741055</td>\n",
       "      <td>42667</td>\n",
       "      <td>231.653247</td>\n",
       "      <td>0.705389</td>\n",
       "      <td>0.987813</td>\n",
       "      <td>0.907906</td>\n",
       "      <td>0.817457</td>\n",
       "      <td>0.006724</td>\n",
       "      <td>0.001852</td>\n",
       "      <td>0.668237</td>\n",
       "      <td>0.995222</td>\n",
       "    </tr>\n",
       "    <tr>\n",
       "      <th>13610</th>\n",
       "      <td>42159</td>\n",
       "      <td>772.237</td>\n",
       "      <td>295.142741</td>\n",
       "      <td>182.204716</td>\n",
       "      <td>1.619841</td>\n",
       "      <td>0.786693</td>\n",
       "      <td>42600</td>\n",
       "      <td>231.686223</td>\n",
       "      <td>0.788962</td>\n",
       "      <td>0.989648</td>\n",
       "      <td>0.888380</td>\n",
       "      <td>0.784997</td>\n",
       "      <td>0.007001</td>\n",
       "      <td>0.001640</td>\n",
       "      <td>0.616221</td>\n",
       "      <td>0.998180</td>\n",
       "    </tr>\n",
       "  </tbody>\n",
       "</table>\n",
       "<p>13611 rows × 16 columns</p>\n",
       "</div>"
      ],
      "text/plain": [
       "        Area  Perimeter  MajorAxisLength  MinorAxisLength  AspectRation  \\\n",
       "0      28395    610.291       208.178117       173.888747      1.197191   \n",
       "1      28734    638.018       200.524796       182.734419      1.097356   \n",
       "2      29380    624.110       212.826130       175.931143      1.209713   \n",
       "3      30008    645.884       210.557999       182.516516      1.153638   \n",
       "4      30140    620.134       201.847882       190.279279      1.060798   \n",
       "...      ...        ...              ...              ...           ...   \n",
       "13606  42097    759.696       288.721612       185.944705      1.552728   \n",
       "13607  42101    757.499       281.576392       190.713136      1.476439   \n",
       "13608  42139    759.321       281.539928       191.187979      1.472582   \n",
       "13609  42147    763.779       283.382636       190.275731      1.489326   \n",
       "13610  42159    772.237       295.142741       182.204716      1.619841   \n",
       "\n",
       "       Eccentricity  ConvexArea  EquivDiameter    Extent  Solidity  roundness  \\\n",
       "0          0.549812       28715     190.141097  0.763923  0.988856   0.958027   \n",
       "1          0.411785       29172     191.272751  0.783968  0.984986   0.887034   \n",
       "2          0.562727       29690     193.410904  0.778113  0.989559   0.947849   \n",
       "3          0.498616       30724     195.467062  0.782681  0.976696   0.903936   \n",
       "4          0.333680       30417     195.896503  0.773098  0.990893   0.984877   \n",
       "...             ...         ...            ...       ...       ...        ...   \n",
       "13606      0.765002       42508     231.515799  0.714574  0.990331   0.916603   \n",
       "13607      0.735702       42494     231.526798  0.799943  0.990752   0.922015   \n",
       "13608      0.734065       42569     231.631261  0.729932  0.989899   0.918424   \n",
       "13609      0.741055       42667     231.653247  0.705389  0.987813   0.907906   \n",
       "13610      0.786693       42600     231.686223  0.788962  0.989648   0.888380   \n",
       "\n",
       "       Compactness  ShapeFactor1  ShapeFactor2  ShapeFactor3  ShapeFactor4  \n",
       "0         0.913358      0.007332      0.003147      0.834222      0.998724  \n",
       "1         0.953861      0.006979      0.003564      0.909851      0.998430  \n",
       "2         0.908774      0.007244      0.003048      0.825871      0.999066  \n",
       "3         0.928329      0.007017      0.003215      0.861794      0.994199  \n",
       "4         0.970516      0.006697      0.003665      0.941900      0.999166  \n",
       "...            ...           ...           ...           ...           ...  \n",
       "13606     0.801865      0.006858      0.001749      0.642988      0.998385  \n",
       "13607     0.822252      0.006688      0.001886      0.676099      0.998219  \n",
       "13608     0.822730      0.006681      0.001888      0.676884      0.996767  \n",
       "13609     0.817457      0.006724      0.001852      0.668237      0.995222  \n",
       "13610     0.784997      0.007001      0.001640      0.616221      0.998180  \n",
       "\n",
       "[13611 rows x 16 columns]"
      ]
     },
     "execution_count": 21,
     "metadata": {},
     "output_type": "execute_result"
    }
   ],
   "source": [
    "df"
   ]
  },
  {
   "cell_type": "code",
   "execution_count": 22,
   "id": "b923330e",
   "metadata": {},
   "outputs": [
    {
     "data": {
      "text/html": [
       "<div>\n",
       "<style scoped>\n",
       "    .dataframe tbody tr th:only-of-type {\n",
       "        vertical-align: middle;\n",
       "    }\n",
       "\n",
       "    .dataframe tbody tr th {\n",
       "        vertical-align: top;\n",
       "    }\n",
       "\n",
       "    .dataframe thead th {\n",
       "        text-align: right;\n",
       "    }\n",
       "</style>\n",
       "<table border=\"1\" class=\"dataframe\">\n",
       "  <thead>\n",
       "    <tr style=\"text-align: right;\">\n",
       "      <th></th>\n",
       "      <th>Area</th>\n",
       "      <th>Perimeter</th>\n",
       "      <th>MajorAxisLength</th>\n",
       "      <th>MinorAxisLength</th>\n",
       "      <th>AspectRation</th>\n",
       "      <th>Eccentricity</th>\n",
       "      <th>ConvexArea</th>\n",
       "      <th>EquivDiameter</th>\n",
       "      <th>Extent</th>\n",
       "      <th>Solidity</th>\n",
       "      <th>roundness</th>\n",
       "      <th>Compactness</th>\n",
       "      <th>ShapeFactor1</th>\n",
       "      <th>ShapeFactor2</th>\n",
       "      <th>ShapeFactor3</th>\n",
       "      <th>ShapeFactor4</th>\n",
       "    </tr>\n",
       "  </thead>\n",
       "  <tbody>\n",
       "    <tr>\n",
       "      <th>0</th>\n",
       "      <td>-0.840718</td>\n",
       "      <td>-1.143277</td>\n",
       "      <td>-1.306550</td>\n",
       "      <td>-0.631130</td>\n",
       "      <td>-1.564995</td>\n",
       "      <td>-2.185640</td>\n",
       "      <td>-0.841420</td>\n",
       "      <td>-1.063302</td>\n",
       "      <td>0.289077</td>\n",
       "      <td>0.367600</td>\n",
       "      <td>1.423815</td>\n",
       "      <td>1.839049</td>\n",
       "      <td>0.680761</td>\n",
       "      <td>2.402084</td>\n",
       "      <td>1.925653</td>\n",
       "      <td>0.838340</td>\n",
       "    </tr>\n",
       "    <tr>\n",
       "      <th>1</th>\n",
       "      <td>-0.829157</td>\n",
       "      <td>-1.013887</td>\n",
       "      <td>-1.395860</td>\n",
       "      <td>-0.434429</td>\n",
       "      <td>-1.969712</td>\n",
       "      <td>-3.685904</td>\n",
       "      <td>-0.826071</td>\n",
       "      <td>-1.044178</td>\n",
       "      <td>0.697451</td>\n",
       "      <td>-0.462889</td>\n",
       "      <td>0.231046</td>\n",
       "      <td>2.495358</td>\n",
       "      <td>0.367953</td>\n",
       "      <td>3.100780</td>\n",
       "      <td>2.689603</td>\n",
       "      <td>0.771110</td>\n",
       "    </tr>\n",
       "    <tr>\n",
       "      <th>2</th>\n",
       "      <td>-0.807128</td>\n",
       "      <td>-1.078789</td>\n",
       "      <td>-1.252311</td>\n",
       "      <td>-0.585713</td>\n",
       "      <td>-1.514236</td>\n",
       "      <td>-2.045261</td>\n",
       "      <td>-0.808674</td>\n",
       "      <td>-1.008047</td>\n",
       "      <td>0.578174</td>\n",
       "      <td>0.518398</td>\n",
       "      <td>1.252819</td>\n",
       "      <td>1.764778</td>\n",
       "      <td>0.603107</td>\n",
       "      <td>2.235009</td>\n",
       "      <td>1.841288</td>\n",
       "      <td>0.916721</td>\n",
       "    </tr>\n",
       "    <tr>\n",
       "      <th>3</th>\n",
       "      <td>-0.785712</td>\n",
       "      <td>-0.977179</td>\n",
       "      <td>-1.278778</td>\n",
       "      <td>-0.439274</td>\n",
       "      <td>-1.741554</td>\n",
       "      <td>-2.742110</td>\n",
       "      <td>-0.773947</td>\n",
       "      <td>-0.973301</td>\n",
       "      <td>0.671235</td>\n",
       "      <td>-2.241685</td>\n",
       "      <td>0.515030</td>\n",
       "      <td>2.081639</td>\n",
       "      <td>0.401703</td>\n",
       "      <td>2.514982</td>\n",
       "      <td>2.204169</td>\n",
       "      <td>-0.197978</td>\n",
       "    </tr>\n",
       "    <tr>\n",
       "      <th>4</th>\n",
       "      <td>-0.781210</td>\n",
       "      <td>-1.097344</td>\n",
       "      <td>-1.380420</td>\n",
       "      <td>-0.266654</td>\n",
       "      <td>-2.117915</td>\n",
       "      <td>-4.534862</td>\n",
       "      <td>-0.784257</td>\n",
       "      <td>-0.966044</td>\n",
       "      <td>0.476003</td>\n",
       "      <td>0.804743</td>\n",
       "      <td>1.874924</td>\n",
       "      <td>2.765229</td>\n",
       "      <td>0.118264</td>\n",
       "      <td>3.270862</td>\n",
       "      <td>3.013352</td>\n",
       "      <td>0.939605</td>\n",
       "    </tr>\n",
       "    <tr>\n",
       "      <th>...</th>\n",
       "      <td>...</td>\n",
       "      <td>...</td>\n",
       "      <td>...</td>\n",
       "      <td>...</td>\n",
       "      <td>...</td>\n",
       "      <td>...</td>\n",
       "      <td>...</td>\n",
       "      <td>...</td>\n",
       "      <td>...</td>\n",
       "      <td>...</td>\n",
       "      <td>...</td>\n",
       "      <td>...</td>\n",
       "      <td>...</td>\n",
       "      <td>...</td>\n",
       "      <td>...</td>\n",
       "      <td>...</td>\n",
       "    </tr>\n",
       "    <tr>\n",
       "      <th>13606</th>\n",
       "      <td>-0.373457</td>\n",
       "      <td>-0.446067</td>\n",
       "      <td>-0.366656</td>\n",
       "      <td>-0.363041</td>\n",
       "      <td>-0.123698</td>\n",
       "      <td>0.153337</td>\n",
       "      <td>-0.378177</td>\n",
       "      <td>-0.364134</td>\n",
       "      <td>-0.716258</td>\n",
       "      <td>0.684148</td>\n",
       "      <td>0.727846</td>\n",
       "      <td>0.032432</td>\n",
       "      <td>0.261415</td>\n",
       "      <td>0.055627</td>\n",
       "      <td>-0.006086</td>\n",
       "      <td>0.760785</td>\n",
       "    </tr>\n",
       "    <tr>\n",
       "      <th>13607</th>\n",
       "      <td>-0.373320</td>\n",
       "      <td>-0.456319</td>\n",
       "      <td>-0.450036</td>\n",
       "      <td>-0.257006</td>\n",
       "      <td>-0.432963</td>\n",
       "      <td>-0.165135</td>\n",
       "      <td>-0.378648</td>\n",
       "      <td>-0.363948</td>\n",
       "      <td>1.022895</td>\n",
       "      <td>0.774356</td>\n",
       "      <td>0.818777</td>\n",
       "      <td>0.362781</td>\n",
       "      <td>0.110379</td>\n",
       "      <td>0.285106</td>\n",
       "      <td>0.328381</td>\n",
       "      <td>0.722632</td>\n",
       "    </tr>\n",
       "    <tr>\n",
       "      <th>13608</th>\n",
       "      <td>-0.372025</td>\n",
       "      <td>-0.447816</td>\n",
       "      <td>-0.450462</td>\n",
       "      <td>-0.246447</td>\n",
       "      <td>-0.448601</td>\n",
       "      <td>-0.182933</td>\n",
       "      <td>-0.376129</td>\n",
       "      <td>-0.362183</td>\n",
       "      <td>-0.403378</td>\n",
       "      <td>0.591349</td>\n",
       "      <td>0.758440</td>\n",
       "      <td>0.370519</td>\n",
       "      <td>0.104266</td>\n",
       "      <td>0.289194</td>\n",
       "      <td>0.336316</td>\n",
       "      <td>0.390237</td>\n",
       "    </tr>\n",
       "    <tr>\n",
       "      <th>13609</th>\n",
       "      <td>-0.371752</td>\n",
       "      <td>-0.427013</td>\n",
       "      <td>-0.428958</td>\n",
       "      <td>-0.266732</td>\n",
       "      <td>-0.380721</td>\n",
       "      <td>-0.106956</td>\n",
       "      <td>-0.372837</td>\n",
       "      <td>-0.361812</td>\n",
       "      <td>-0.903380</td>\n",
       "      <td>0.143712</td>\n",
       "      <td>0.581732</td>\n",
       "      <td>0.285088</td>\n",
       "      <td>0.141901</td>\n",
       "      <td>0.228366</td>\n",
       "      <td>0.248964</td>\n",
       "      <td>0.036439</td>\n",
       "    </tr>\n",
       "    <tr>\n",
       "      <th>13610</th>\n",
       "      <td>-0.371343</td>\n",
       "      <td>-0.387543</td>\n",
       "      <td>-0.291725</td>\n",
       "      <td>-0.446208</td>\n",
       "      <td>0.148369</td>\n",
       "      <td>0.389102</td>\n",
       "      <td>-0.375088</td>\n",
       "      <td>-0.361254</td>\n",
       "      <td>0.799198</td>\n",
       "      <td>0.537519</td>\n",
       "      <td>0.253672</td>\n",
       "      <td>-0.240895</td>\n",
       "      <td>0.387498</td>\n",
       "      <td>-0.127771</td>\n",
       "      <td>-0.276471</td>\n",
       "      <td>0.713693</td>\n",
       "    </tr>\n",
       "  </tbody>\n",
       "</table>\n",
       "<p>13611 rows × 16 columns</p>\n",
       "</div>"
      ],
      "text/plain": [
       "           Area  Perimeter  MajorAxisLength  MinorAxisLength  AspectRation  \\\n",
       "0     -0.840718  -1.143277        -1.306550        -0.631130     -1.564995   \n",
       "1     -0.829157  -1.013887        -1.395860        -0.434429     -1.969712   \n",
       "2     -0.807128  -1.078789        -1.252311        -0.585713     -1.514236   \n",
       "3     -0.785712  -0.977179        -1.278778        -0.439274     -1.741554   \n",
       "4     -0.781210  -1.097344        -1.380420        -0.266654     -2.117915   \n",
       "...         ...        ...              ...              ...           ...   \n",
       "13606 -0.373457  -0.446067        -0.366656        -0.363041     -0.123698   \n",
       "13607 -0.373320  -0.456319        -0.450036        -0.257006     -0.432963   \n",
       "13608 -0.372025  -0.447816        -0.450462        -0.246447     -0.448601   \n",
       "13609 -0.371752  -0.427013        -0.428958        -0.266732     -0.380721   \n",
       "13610 -0.371343  -0.387543        -0.291725        -0.446208      0.148369   \n",
       "\n",
       "       Eccentricity  ConvexArea  EquivDiameter    Extent  Solidity  roundness  \\\n",
       "0         -2.185640   -0.841420      -1.063302  0.289077  0.367600   1.423815   \n",
       "1         -3.685904   -0.826071      -1.044178  0.697451 -0.462889   0.231046   \n",
       "2         -2.045261   -0.808674      -1.008047  0.578174  0.518398   1.252819   \n",
       "3         -2.742110   -0.773947      -0.973301  0.671235 -2.241685   0.515030   \n",
       "4         -4.534862   -0.784257      -0.966044  0.476003  0.804743   1.874924   \n",
       "...             ...         ...            ...       ...       ...        ...   \n",
       "13606      0.153337   -0.378177      -0.364134 -0.716258  0.684148   0.727846   \n",
       "13607     -0.165135   -0.378648      -0.363948  1.022895  0.774356   0.818777   \n",
       "13608     -0.182933   -0.376129      -0.362183 -0.403378  0.591349   0.758440   \n",
       "13609     -0.106956   -0.372837      -0.361812 -0.903380  0.143712   0.581732   \n",
       "13610      0.389102   -0.375088      -0.361254  0.799198  0.537519   0.253672   \n",
       "\n",
       "       Compactness  ShapeFactor1  ShapeFactor2  ShapeFactor3  ShapeFactor4  \n",
       "0         1.839049      0.680761      2.402084      1.925653      0.838340  \n",
       "1         2.495358      0.367953      3.100780      2.689603      0.771110  \n",
       "2         1.764778      0.603107      2.235009      1.841288      0.916721  \n",
       "3         2.081639      0.401703      2.514982      2.204169     -0.197978  \n",
       "4         2.765229      0.118264      3.270862      3.013352      0.939605  \n",
       "...            ...           ...           ...           ...           ...  \n",
       "13606     0.032432      0.261415      0.055627     -0.006086      0.760785  \n",
       "13607     0.362781      0.110379      0.285106      0.328381      0.722632  \n",
       "13608     0.370519      0.104266      0.289194      0.336316      0.390237  \n",
       "13609     0.285088      0.141901      0.228366      0.248964      0.036439  \n",
       "13610    -0.240895      0.387498     -0.127771     -0.276471      0.713693  \n",
       "\n",
       "[13611 rows x 16 columns]"
      ]
     },
     "execution_count": 22,
     "metadata": {},
     "output_type": "execute_result"
    }
   ],
   "source": [
    "df = (df - df.mean()) /df.std()\n",
    "df"
   ]
  },
  {
   "cell_type": "code",
   "execution_count": 23,
   "id": "b6cefb9b",
   "metadata": {
    "tags": []
   },
   "outputs": [
    {
     "data": {
      "text/html": [
       "<div>\n",
       "<style scoped>\n",
       "    .dataframe tbody tr th:only-of-type {\n",
       "        vertical-align: middle;\n",
       "    }\n",
       "\n",
       "    .dataframe tbody tr th {\n",
       "        vertical-align: top;\n",
       "    }\n",
       "\n",
       "    .dataframe thead th {\n",
       "        text-align: right;\n",
       "    }\n",
       "</style>\n",
       "<table border=\"1\" class=\"dataframe\">\n",
       "  <thead>\n",
       "    <tr style=\"text-align: right;\">\n",
       "      <th></th>\n",
       "      <th>Area</th>\n",
       "      <th>Perimeter</th>\n",
       "      <th>MajorAxisLength</th>\n",
       "      <th>MinorAxisLength</th>\n",
       "      <th>AspectRation</th>\n",
       "      <th>Eccentricity</th>\n",
       "      <th>ConvexArea</th>\n",
       "      <th>EquivDiameter</th>\n",
       "      <th>Extent</th>\n",
       "      <th>Solidity</th>\n",
       "      <th>roundness</th>\n",
       "      <th>Compactness</th>\n",
       "      <th>ShapeFactor1</th>\n",
       "      <th>ShapeFactor2</th>\n",
       "      <th>ShapeFactor3</th>\n",
       "      <th>ShapeFactor4</th>\n",
       "    </tr>\n",
       "  </thead>\n",
       "  <tbody>\n",
       "    <tr>\n",
       "      <th>Area</th>\n",
       "      <td>1.000000</td>\n",
       "      <td>0.966722</td>\n",
       "      <td>0.931834</td>\n",
       "      <td>0.951602</td>\n",
       "      <td>0.241735</td>\n",
       "      <td>0.267481</td>\n",
       "      <td>0.999939</td>\n",
       "      <td>0.984968</td>\n",
       "      <td>0.054345</td>\n",
       "      <td>-0.196585</td>\n",
       "      <td>-0.357530</td>\n",
       "      <td>-0.268067</td>\n",
       "      <td>-0.847958</td>\n",
       "      <td>-0.639291</td>\n",
       "      <td>-0.272145</td>\n",
       "      <td>-0.355721</td>\n",
       "    </tr>\n",
       "    <tr>\n",
       "      <th>Perimeter</th>\n",
       "      <td>0.966722</td>\n",
       "      <td>1.000000</td>\n",
       "      <td>0.977338</td>\n",
       "      <td>0.913179</td>\n",
       "      <td>0.385276</td>\n",
       "      <td>0.391066</td>\n",
       "      <td>0.967689</td>\n",
       "      <td>0.991380</td>\n",
       "      <td>-0.021160</td>\n",
       "      <td>-0.303970</td>\n",
       "      <td>-0.547647</td>\n",
       "      <td>-0.406857</td>\n",
       "      <td>-0.864623</td>\n",
       "      <td>-0.767592</td>\n",
       "      <td>-0.408435</td>\n",
       "      <td>-0.429310</td>\n",
       "    </tr>\n",
       "    <tr>\n",
       "      <th>MajorAxisLength</th>\n",
       "      <td>0.931834</td>\n",
       "      <td>0.977338</td>\n",
       "      <td>1.000000</td>\n",
       "      <td>0.826052</td>\n",
       "      <td>0.550335</td>\n",
       "      <td>0.541972</td>\n",
       "      <td>0.932607</td>\n",
       "      <td>0.961733</td>\n",
       "      <td>-0.078062</td>\n",
       "      <td>-0.284302</td>\n",
       "      <td>-0.596358</td>\n",
       "      <td>-0.568377</td>\n",
       "      <td>-0.773609</td>\n",
       "      <td>-0.859238</td>\n",
       "      <td>-0.568185</td>\n",
       "      <td>-0.482527</td>\n",
       "    </tr>\n",
       "    <tr>\n",
       "      <th>MinorAxisLength</th>\n",
       "      <td>0.951602</td>\n",
       "      <td>0.913179</td>\n",
       "      <td>0.826052</td>\n",
       "      <td>1.000000</td>\n",
       "      <td>-0.009161</td>\n",
       "      <td>0.019574</td>\n",
       "      <td>0.951339</td>\n",
       "      <td>0.948539</td>\n",
       "      <td>0.145957</td>\n",
       "      <td>-0.155831</td>\n",
       "      <td>-0.210344</td>\n",
       "      <td>-0.015066</td>\n",
       "      <td>-0.947204</td>\n",
       "      <td>-0.471347</td>\n",
       "      <td>-0.019326</td>\n",
       "      <td>-0.263749</td>\n",
       "    </tr>\n",
       "    <tr>\n",
       "      <th>AspectRation</th>\n",
       "      <td>0.241735</td>\n",
       "      <td>0.385276</td>\n",
       "      <td>0.550335</td>\n",
       "      <td>-0.009161</td>\n",
       "      <td>1.000000</td>\n",
       "      <td>0.924293</td>\n",
       "      <td>0.243301</td>\n",
       "      <td>0.303647</td>\n",
       "      <td>-0.370184</td>\n",
       "      <td>-0.267754</td>\n",
       "      <td>-0.766979</td>\n",
       "      <td>-0.987687</td>\n",
       "      <td>0.024593</td>\n",
       "      <td>-0.837841</td>\n",
       "      <td>-0.978592</td>\n",
       "      <td>-0.449264</td>\n",
       "    </tr>\n",
       "    <tr>\n",
       "      <th>Eccentricity</th>\n",
       "      <td>0.267481</td>\n",
       "      <td>0.391066</td>\n",
       "      <td>0.541972</td>\n",
       "      <td>0.019574</td>\n",
       "      <td>0.924293</td>\n",
       "      <td>1.000000</td>\n",
       "      <td>0.269255</td>\n",
       "      <td>0.318667</td>\n",
       "      <td>-0.319362</td>\n",
       "      <td>-0.297592</td>\n",
       "      <td>-0.722272</td>\n",
       "      <td>-0.970313</td>\n",
       "      <td>0.019920</td>\n",
       "      <td>-0.860141</td>\n",
       "      <td>-0.981058</td>\n",
       "      <td>-0.449354</td>\n",
       "    </tr>\n",
       "    <tr>\n",
       "      <th>ConvexArea</th>\n",
       "      <td>0.999939</td>\n",
       "      <td>0.967689</td>\n",
       "      <td>0.932607</td>\n",
       "      <td>0.951339</td>\n",
       "      <td>0.243301</td>\n",
       "      <td>0.269255</td>\n",
       "      <td>1.000000</td>\n",
       "      <td>0.985226</td>\n",
       "      <td>0.052564</td>\n",
       "      <td>-0.206191</td>\n",
       "      <td>-0.362083</td>\n",
       "      <td>-0.269922</td>\n",
       "      <td>-0.847950</td>\n",
       "      <td>-0.640862</td>\n",
       "      <td>-0.274024</td>\n",
       "      <td>-0.362049</td>\n",
       "    </tr>\n",
       "    <tr>\n",
       "      <th>EquivDiameter</th>\n",
       "      <td>0.984968</td>\n",
       "      <td>0.991380</td>\n",
       "      <td>0.961733</td>\n",
       "      <td>0.948539</td>\n",
       "      <td>0.303647</td>\n",
       "      <td>0.318667</td>\n",
       "      <td>0.985226</td>\n",
       "      <td>1.000000</td>\n",
       "      <td>0.028383</td>\n",
       "      <td>-0.231648</td>\n",
       "      <td>-0.435945</td>\n",
       "      <td>-0.327650</td>\n",
       "      <td>-0.892741</td>\n",
       "      <td>-0.713069</td>\n",
       "      <td>-0.330389</td>\n",
       "      <td>-0.392512</td>\n",
       "    </tr>\n",
       "    <tr>\n",
       "      <th>Extent</th>\n",
       "      <td>0.054345</td>\n",
       "      <td>-0.021160</td>\n",
       "      <td>-0.078062</td>\n",
       "      <td>0.145957</td>\n",
       "      <td>-0.370184</td>\n",
       "      <td>-0.319362</td>\n",
       "      <td>0.052564</td>\n",
       "      <td>0.028383</td>\n",
       "      <td>1.000000</td>\n",
       "      <td>0.191389</td>\n",
       "      <td>0.344411</td>\n",
       "      <td>0.354212</td>\n",
       "      <td>-0.141616</td>\n",
       "      <td>0.237956</td>\n",
       "      <td>0.347624</td>\n",
       "      <td>0.148502</td>\n",
       "    </tr>\n",
       "    <tr>\n",
       "      <th>Solidity</th>\n",
       "      <td>-0.196585</td>\n",
       "      <td>-0.303970</td>\n",
       "      <td>-0.284302</td>\n",
       "      <td>-0.155831</td>\n",
       "      <td>-0.267754</td>\n",
       "      <td>-0.297592</td>\n",
       "      <td>-0.206191</td>\n",
       "      <td>-0.231648</td>\n",
       "      <td>0.191389</td>\n",
       "      <td>1.000000</td>\n",
       "      <td>0.607150</td>\n",
       "      <td>0.303766</td>\n",
       "      <td>0.153388</td>\n",
       "      <td>0.343559</td>\n",
       "      <td>0.307662</td>\n",
       "      <td>0.702163</td>\n",
       "    </tr>\n",
       "    <tr>\n",
       "      <th>roundness</th>\n",
       "      <td>-0.357530</td>\n",
       "      <td>-0.547647</td>\n",
       "      <td>-0.596358</td>\n",
       "      <td>-0.210344</td>\n",
       "      <td>-0.766979</td>\n",
       "      <td>-0.722272</td>\n",
       "      <td>-0.362083</td>\n",
       "      <td>-0.435945</td>\n",
       "      <td>0.344411</td>\n",
       "      <td>0.607150</td>\n",
       "      <td>1.000000</td>\n",
       "      <td>0.768086</td>\n",
       "      <td>0.230273</td>\n",
       "      <td>0.782824</td>\n",
       "      <td>0.763126</td>\n",
       "      <td>0.472149</td>\n",
       "    </tr>\n",
       "    <tr>\n",
       "      <th>Compactness</th>\n",
       "      <td>-0.268067</td>\n",
       "      <td>-0.406857</td>\n",
       "      <td>-0.568377</td>\n",
       "      <td>-0.015066</td>\n",
       "      <td>-0.987687</td>\n",
       "      <td>-0.970313</td>\n",
       "      <td>-0.269922</td>\n",
       "      <td>-0.327650</td>\n",
       "      <td>0.354212</td>\n",
       "      <td>0.303766</td>\n",
       "      <td>0.768086</td>\n",
       "      <td>1.000000</td>\n",
       "      <td>-0.009394</td>\n",
       "      <td>0.868939</td>\n",
       "      <td>0.998686</td>\n",
       "      <td>0.484436</td>\n",
       "    </tr>\n",
       "    <tr>\n",
       "      <th>ShapeFactor1</th>\n",
       "      <td>-0.847958</td>\n",
       "      <td>-0.864623</td>\n",
       "      <td>-0.773609</td>\n",
       "      <td>-0.947204</td>\n",
       "      <td>0.024593</td>\n",
       "      <td>0.019920</td>\n",
       "      <td>-0.847950</td>\n",
       "      <td>-0.892741</td>\n",
       "      <td>-0.141616</td>\n",
       "      <td>0.153388</td>\n",
       "      <td>0.230273</td>\n",
       "      <td>-0.009394</td>\n",
       "      <td>1.000000</td>\n",
       "      <td>0.469197</td>\n",
       "      <td>-0.008320</td>\n",
       "      <td>0.248619</td>\n",
       "    </tr>\n",
       "    <tr>\n",
       "      <th>ShapeFactor2</th>\n",
       "      <td>-0.639291</td>\n",
       "      <td>-0.767592</td>\n",
       "      <td>-0.859238</td>\n",
       "      <td>-0.471347</td>\n",
       "      <td>-0.837841</td>\n",
       "      <td>-0.860141</td>\n",
       "      <td>-0.640862</td>\n",
       "      <td>-0.713069</td>\n",
       "      <td>0.237956</td>\n",
       "      <td>0.343559</td>\n",
       "      <td>0.782824</td>\n",
       "      <td>0.868939</td>\n",
       "      <td>0.469197</td>\n",
       "      <td>1.000000</td>\n",
       "      <td>0.872971</td>\n",
       "      <td>0.529932</td>\n",
       "    </tr>\n",
       "    <tr>\n",
       "      <th>ShapeFactor3</th>\n",
       "      <td>-0.272145</td>\n",
       "      <td>-0.408435</td>\n",
       "      <td>-0.568185</td>\n",
       "      <td>-0.019326</td>\n",
       "      <td>-0.978592</td>\n",
       "      <td>-0.981058</td>\n",
       "      <td>-0.274024</td>\n",
       "      <td>-0.330389</td>\n",
       "      <td>0.347624</td>\n",
       "      <td>0.307662</td>\n",
       "      <td>0.763126</td>\n",
       "      <td>0.998686</td>\n",
       "      <td>-0.008320</td>\n",
       "      <td>0.872971</td>\n",
       "      <td>1.000000</td>\n",
       "      <td>0.484274</td>\n",
       "    </tr>\n",
       "    <tr>\n",
       "      <th>ShapeFactor4</th>\n",
       "      <td>-0.355721</td>\n",
       "      <td>-0.429310</td>\n",
       "      <td>-0.482527</td>\n",
       "      <td>-0.263749</td>\n",
       "      <td>-0.449264</td>\n",
       "      <td>-0.449354</td>\n",
       "      <td>-0.362049</td>\n",
       "      <td>-0.392512</td>\n",
       "      <td>0.148502</td>\n",
       "      <td>0.702163</td>\n",
       "      <td>0.472149</td>\n",
       "      <td>0.484436</td>\n",
       "      <td>0.248619</td>\n",
       "      <td>0.529932</td>\n",
       "      <td>0.484274</td>\n",
       "      <td>1.000000</td>\n",
       "    </tr>\n",
       "  </tbody>\n",
       "</table>\n",
       "</div>"
      ],
      "text/plain": [
       "                     Area  Perimeter  MajorAxisLength  MinorAxisLength  \\\n",
       "Area             1.000000   0.966722         0.931834         0.951602   \n",
       "Perimeter        0.966722   1.000000         0.977338         0.913179   \n",
       "MajorAxisLength  0.931834   0.977338         1.000000         0.826052   \n",
       "MinorAxisLength  0.951602   0.913179         0.826052         1.000000   \n",
       "AspectRation     0.241735   0.385276         0.550335        -0.009161   \n",
       "Eccentricity     0.267481   0.391066         0.541972         0.019574   \n",
       "ConvexArea       0.999939   0.967689         0.932607         0.951339   \n",
       "EquivDiameter    0.984968   0.991380         0.961733         0.948539   \n",
       "Extent           0.054345  -0.021160        -0.078062         0.145957   \n",
       "Solidity        -0.196585  -0.303970        -0.284302        -0.155831   \n",
       "roundness       -0.357530  -0.547647        -0.596358        -0.210344   \n",
       "Compactness     -0.268067  -0.406857        -0.568377        -0.015066   \n",
       "ShapeFactor1    -0.847958  -0.864623        -0.773609        -0.947204   \n",
       "ShapeFactor2    -0.639291  -0.767592        -0.859238        -0.471347   \n",
       "ShapeFactor3    -0.272145  -0.408435        -0.568185        -0.019326   \n",
       "ShapeFactor4    -0.355721  -0.429310        -0.482527        -0.263749   \n",
       "\n",
       "                 AspectRation  Eccentricity  ConvexArea  EquivDiameter  \\\n",
       "Area                 0.241735      0.267481    0.999939       0.984968   \n",
       "Perimeter            0.385276      0.391066    0.967689       0.991380   \n",
       "MajorAxisLength      0.550335      0.541972    0.932607       0.961733   \n",
       "MinorAxisLength     -0.009161      0.019574    0.951339       0.948539   \n",
       "AspectRation         1.000000      0.924293    0.243301       0.303647   \n",
       "Eccentricity         0.924293      1.000000    0.269255       0.318667   \n",
       "ConvexArea           0.243301      0.269255    1.000000       0.985226   \n",
       "EquivDiameter        0.303647      0.318667    0.985226       1.000000   \n",
       "Extent              -0.370184     -0.319362    0.052564       0.028383   \n",
       "Solidity            -0.267754     -0.297592   -0.206191      -0.231648   \n",
       "roundness           -0.766979     -0.722272   -0.362083      -0.435945   \n",
       "Compactness         -0.987687     -0.970313   -0.269922      -0.327650   \n",
       "ShapeFactor1         0.024593      0.019920   -0.847950      -0.892741   \n",
       "ShapeFactor2        -0.837841     -0.860141   -0.640862      -0.713069   \n",
       "ShapeFactor3        -0.978592     -0.981058   -0.274024      -0.330389   \n",
       "ShapeFactor4        -0.449264     -0.449354   -0.362049      -0.392512   \n",
       "\n",
       "                   Extent  Solidity  roundness  Compactness  ShapeFactor1  \\\n",
       "Area             0.054345 -0.196585  -0.357530    -0.268067     -0.847958   \n",
       "Perimeter       -0.021160 -0.303970  -0.547647    -0.406857     -0.864623   \n",
       "MajorAxisLength -0.078062 -0.284302  -0.596358    -0.568377     -0.773609   \n",
       "MinorAxisLength  0.145957 -0.155831  -0.210344    -0.015066     -0.947204   \n",
       "AspectRation    -0.370184 -0.267754  -0.766979    -0.987687      0.024593   \n",
       "Eccentricity    -0.319362 -0.297592  -0.722272    -0.970313      0.019920   \n",
       "ConvexArea       0.052564 -0.206191  -0.362083    -0.269922     -0.847950   \n",
       "EquivDiameter    0.028383 -0.231648  -0.435945    -0.327650     -0.892741   \n",
       "Extent           1.000000  0.191389   0.344411     0.354212     -0.141616   \n",
       "Solidity         0.191389  1.000000   0.607150     0.303766      0.153388   \n",
       "roundness        0.344411  0.607150   1.000000     0.768086      0.230273   \n",
       "Compactness      0.354212  0.303766   0.768086     1.000000     -0.009394   \n",
       "ShapeFactor1    -0.141616  0.153388   0.230273    -0.009394      1.000000   \n",
       "ShapeFactor2     0.237956  0.343559   0.782824     0.868939      0.469197   \n",
       "ShapeFactor3     0.347624  0.307662   0.763126     0.998686     -0.008320   \n",
       "ShapeFactor4     0.148502  0.702163   0.472149     0.484436      0.248619   \n",
       "\n",
       "                 ShapeFactor2  ShapeFactor3  ShapeFactor4  \n",
       "Area                -0.639291     -0.272145     -0.355721  \n",
       "Perimeter           -0.767592     -0.408435     -0.429310  \n",
       "MajorAxisLength     -0.859238     -0.568185     -0.482527  \n",
       "MinorAxisLength     -0.471347     -0.019326     -0.263749  \n",
       "AspectRation        -0.837841     -0.978592     -0.449264  \n",
       "Eccentricity        -0.860141     -0.981058     -0.449354  \n",
       "ConvexArea          -0.640862     -0.274024     -0.362049  \n",
       "EquivDiameter       -0.713069     -0.330389     -0.392512  \n",
       "Extent               0.237956      0.347624      0.148502  \n",
       "Solidity             0.343559      0.307662      0.702163  \n",
       "roundness            0.782824      0.763126      0.472149  \n",
       "Compactness          0.868939      0.998686      0.484436  \n",
       "ShapeFactor1         0.469197     -0.008320      0.248619  \n",
       "ShapeFactor2         1.000000      0.872971      0.529932  \n",
       "ShapeFactor3         0.872971      1.000000      0.484274  \n",
       "ShapeFactor4         0.529932      0.484274      1.000000  "
      ]
     },
     "execution_count": 23,
     "metadata": {},
     "output_type": "execute_result"
    }
   ],
   "source": [
    "df.cov()"
   ]
  },
  {
   "cell_type": "code",
   "execution_count": 24,
   "id": "40fc03db-a205-4a0f-b4af-be6fd7118453",
   "metadata": {
    "tags": []
   },
   "outputs": [],
   "source": [
    "m = df.cov()\n",
    "valp, vecp = np.linalg.eig(m)"
   ]
  },
  {
   "cell_type": "code",
   "execution_count": 36,
   "id": "c1c84e25-1c7f-4f81-b500-b8a66840df6e",
   "metadata": {
    "tags": []
   },
   "outputs": [
    {
     "data": {
      "text/plain": [
       "array([[ 2.82457959e-01,  2.45882017e-01, -6.14466784e-02,\n",
       "        -3.15461943e-02, -9.13256239e-02, -3.66390031e-01,\n",
       "         1.25044850e-01,  7.17479146e-02,  3.50665700e-02,\n",
       "        -3.90419508e-01, -1.77686508e-01,  5.44841917e-02,\n",
       "         4.62948192e-02,  6.55727932e-01,  2.31436022e-01,\n",
       "         1.33190217e-01],\n",
       "       [ 3.10891123e-01,  1.79302922e-01, -1.88525950e-02,\n",
       "        -4.24678978e-02,  8.18198658e-02, -1.02508240e-02,\n",
       "         8.15297016e-02,  3.17295057e-02, -1.57501165e-01,\n",
       "         3.44383058e-01,  1.99453658e-01, -7.50549996e-01,\n",
       "         3.17920227e-01,  8.13901184e-02,  1.46143882e-02,\n",
       "         1.26584592e-02],\n",
       "       [ 3.25823976e-01,  1.00756515e-01, -8.46919062e-02,\n",
       "        -6.79308171e-03, -4.42163130e-02, -1.49091961e-02,\n",
       "         1.18162545e-01, -2.00947005e-01, -3.52366424e-01,\n",
       "         1.01996462e-01,  1.73639719e-01,  2.73550308e-02,\n",
       "        -6.85301954e-01, -1.86251286e-01,  3.46019470e-01,\n",
       "         1.74431465e-01],\n",
       "       [ 2.36199383e-01,  3.43460651e-01,  7.50039051e-03,\n",
       "        -6.12997113e-02, -4.29258466e-03, -2.78820142e-02,\n",
       "        -6.23528126e-02,  9.47252772e-02,  4.14230613e-01,\n",
       "         4.81150316e-01,  4.73722153e-03,  4.13935455e-01,\n",
       "         2.58014771e-01, -1.83095628e-01,  3.31749352e-01,\n",
       "         1.55445311e-01],\n",
       "       [ 2.29298328e-01, -3.30844186e-01, -1.69058010e-01,\n",
       "         5.36461198e-02, -2.47566569e-02,  7.59699019e-02,\n",
       "         3.67891852e-01, -5.29805908e-01,  1.21518422e-01,\n",
       "         2.08046222e-01, -5.40202975e-01, -3.34426608e-03,\n",
       "         8.74672251e-02,  2.66661632e-02, -1.23575673e-01,\n",
       "         1.02810063e-01],\n",
       "       [ 2.31526055e-01, -3.19433876e-01, -1.63042022e-01,\n",
       "         1.18388551e-01, -6.03039612e-02, -1.90427984e-01,\n",
       "        -5.11031658e-01,  4.09120616e-01, -3.22591885e-01,\n",
       "         2.41533186e-01, -4.11402508e-01,  3.41133077e-02,\n",
       "        -2.23275769e-02,  4.59512872e-05,  1.47926661e-02,\n",
       "        -4.23063189e-02],\n",
       "       [ 2.83199889e-01,  2.44630067e-01, -5.36490748e-02,\n",
       "        -3.09595588e-02, -8.91133653e-02, -3.69215709e-01,\n",
       "         1.21178721e-01,  6.45192723e-02,  2.58278785e-02,\n",
       "        -3.94275535e-01, -1.79002349e-01, -7.73945505e-02,\n",
       "         1.02365602e-01, -6.48621685e-01, -2.24752766e-01,\n",
       "        -1.30973813e-01],\n",
       "       [ 2.97483844e-01,  2.22802185e-01, -4.99135474e-02,\n",
       "        -3.24273862e-02, -2.19534109e-02, -3.35147371e-02,\n",
       "        -6.30912181e-04, -3.40422269e-02, -1.66940907e-02,\n",
       "         2.53700121e-01,  1.96001912e-01,  2.74139595e-01,\n",
       "        -1.98496949e-01,  2.66409110e-01, -6.75589071e-01,\n",
       "        -3.32487644e-01],\n",
       "       [-5.98079605e-02,  2.20619259e-01, -8.52582094e-02,\n",
       "         9.48254270e-01,  1.97598914e-01,  5.10549846e-04,\n",
       "         4.45929066e-02, -1.47000874e-02,  6.00988199e-03,\n",
       "        -8.95630176e-04, -2.77069076e-03, -4.38702938e-05,\n",
       "         4.62378730e-04, -5.65699901e-05, -4.74694767e-06,\n",
       "        -1.17656250e-06],\n",
       "       [-1.43016314e-01,  1.03322337e-01, -7.38670227e-01,\n",
       "        -4.95457575e-02, -2.82194375e-01,  3.25692605e-01,\n",
       "         3.09528803e-01,  3.72834091e-01, -1.24670227e-02,\n",
       "        -6.14713282e-03,  8.92367562e-04,  3.39332769e-04,\n",
       "         5.39703530e-04, -7.67128771e-03, -2.11537217e-03,\n",
       "        -1.38727399e-03],\n",
       "       [-2.48164811e-01,  2.14805283e-01, -1.63325486e-01,\n",
       "         6.74824124e-02, -6.48700704e-01, -1.73439073e-01,\n",
       "        -4.16624426e-01, -4.61145748e-01,  9.44150137e-03,\n",
       "         7.30163384e-02,  3.45701625e-02, -1.20891181e-01,\n",
       "         4.96397270e-02,  1.46685292e-02,  1.89361546e-03,\n",
       "         2.37532083e-03],\n",
       "       [-2.38378001e-01,  3.28914361e-01,  1.49700768e-01,\n",
       "        -8.71555720e-02,  5.85957355e-02,  1.23232322e-02,\n",
       "        -3.24244635e-02,  1.67809464e-01,  3.93833876e-02,\n",
       "         1.17265425e-01, -3.22502957e-01, -1.53253513e-01,\n",
       "        -2.54641390e-01,  2.02576533e-03, -3.72515842e-01,\n",
       "         6.52515711e-01],\n",
       "       [-2.21318904e-01, -3.32548514e-01, -3.26229318e-02,\n",
       "         7.23303358e-02, -1.12907775e-01, -6.33211915e-01,\n",
       "         2.93567715e-01,  1.91922093e-01,  3.36948568e-01,\n",
       "         2.71583818e-01,  2.00505439e-01, -1.28472827e-01,\n",
       "        -2.30735274e-01,  4.01056570e-03, -1.12850065e-02,\n",
       "        -5.46798165e-03],\n",
       "       [-3.14624592e-01,  1.29419239e-01,  1.20076678e-01,\n",
       "        -4.65438174e-02, -2.64141558e-02, -2.59245753e-01,\n",
       "         3.54310855e-01, -3.19852335e-02, -6.59508838e-01,\n",
       "         2.12589945e-01, -3.73372334e-02,  2.97904687e-01,\n",
       "         3.19900041e-01, -1.85035351e-02,  1.46683819e-02,\n",
       "         5.54470672e-03],\n",
       "       [-2.38983301e-01,  3.27521662e-01,  1.49570241e-01,\n",
       "        -9.56788535e-02,  6.22269492e-02,  4.74498430e-02,\n",
       "         8.31848113e-02,  4.52594101e-02,  9.00540727e-02,\n",
       "         1.65952251e-01, -4.68319795e-01, -1.89335815e-01,\n",
       "        -2.82232584e-01,  4.61837000e-02,  2.34064524e-01,\n",
       "        -6.01334599e-01],\n",
       "       [-1.98009429e-01,  1.00061082e-01, -5.36903056e-01,\n",
       "        -2.10119896e-01,  6.40371689e-01, -2.80088860e-01,\n",
       "        -2.40046284e-01, -2.66748910e-01,  2.97984545e-03,\n",
       "        -3.46314928e-03,  2.84785008e-02,  9.79934587e-03,\n",
       "         2.73101904e-03, -4.29724673e-03,  1.03771346e-02,\n",
       "         6.15999867e-04]])"
      ]
     },
     "execution_count": 36,
     "metadata": {},
     "output_type": "execute_result"
    }
   ],
   "source": [
    "vecp"
   ]
  },
  {
   "cell_type": "code",
   "execution_count": 39,
   "id": "11c34d21-cbb7-4131-8f12-dc91401ae345",
   "metadata": {
    "tags": []
   },
   "outputs": [
    {
     "data": {
      "text/plain": [
       "array([8.87463018e+00, 4.22895571e+00, 1.28105028e+00, 8.18252845e-01,\n",
       "       4.38286864e-01, 1.83961750e-01, 1.11624118e-01, 5.20131998e-02,\n",
       "       8.26026182e-03, 1.45388995e-03, 1.05418869e-03, 2.93982879e-04,\n",
       "       1.48794629e-04, 1.00102684e-05, 1.78479192e-06, 2.14611336e-06])"
      ]
     },
     "execution_count": 39,
     "metadata": {},
     "output_type": "execute_result"
    }
   ],
   "source": [
    "valp"
   ]
  },
  {
   "cell_type": "code",
   "execution_count": 25,
   "id": "b5e4715e-624d-44ec-8522-add35b427dd0",
   "metadata": {
    "tags": []
   },
   "outputs": [
    {
     "data": {
      "text/plain": [
       "8.874630180420652"
      ]
     },
     "execution_count": 25,
     "metadata": {},
     "output_type": "execute_result"
    }
   ],
   "source": [
    "valp.max()"
   ]
  },
  {
   "cell_type": "code",
   "execution_count": 26,
   "id": "620330df-156d-4855-a984-2923db6d09f2",
   "metadata": {
    "tags": []
   },
   "outputs": [
    {
     "data": {
      "text/plain": [
       "(16, 16)"
      ]
     },
     "execution_count": 26,
     "metadata": {},
     "output_type": "execute_result"
    }
   ],
   "source": [
    "vecp.shape"
   ]
  },
  {
   "cell_type": "code",
   "execution_count": 38,
   "id": "83275acd",
   "metadata": {},
   "outputs": [
    {
     "name": "stdout",
     "output_type": "stream",
     "text": [
      "15.999999999999991\n",
      "[5.54664386e+01 2.64309732e+01 8.00656422e+00 5.11408029e+00\n",
      " 2.73929290e+00 1.14976093e+00 6.97650724e-01 3.25082500e-01\n",
      " 5.16266295e-02 9.08681206e-03 6.58867938e-03 1.83739336e-03\n",
      " 9.29966038e-04 6.25641678e-05 1.11549485e-05 1.34132086e-05]\n"
     ]
    }
   ],
   "source": [
    "total_variance = np.sum(valp)\n",
    "print(total_variance)\n",
    "# Calcul des pourcentages des variances expliquées\n",
    "pourcentages_variance = (valp / total_variance) * 100\n",
    "\n",
    "# Affichage des pourcentages\n",
    "print(pourcentages_variance)\n"
   ]
  },
  {
   "cell_type": "code",
   "execution_count": 32,
   "id": "173fc462-d705-4a2d-9f15-d7714c7e2520",
   "metadata": {
    "tags": []
   },
   "outputs": [
    {
     "data": {
      "text/plain": [
       "0.6000556853402934"
      ]
     },
     "execution_count": 32,
     "metadata": {},
     "output_type": "execute_result"
    }
   ],
   "source": [
    "2.00527297e-01/(2.00527297e-01+ 9.41436471e-02+ 2.05182745e-02+ 7.99779134e-03+\n",
    "       4.90401510e-03+ 3.24594214e-03+ 2.06626634e-03+ 4.97188878e-04+\n",
    "       2.16301070e-04+ 3.01720922e-05+ 2.39793038e-05+ 6.40257532e-06+\n",
    "       3.60517357e-06 + 1.62534651e-07+ 3.64651200e-08+ 6.50692180e-08)"
   ]
  },
  {
   "cell_type": "code",
   "execution_count": null,
   "id": "e9e70d67-d601-460e-b9f2-83b6512fe8bf",
   "metadata": {
    "tags": []
   },
   "outputs": [],
   "source": [
    "9.41436471e-02/(2.00527297e-01+ 9.41436471e-02+ 2.05182745e-02+ 7.99779134e-03+\n",
    "       4.90401510e-03+ 3.24594214e-03+ 2.06626634e-03+ 4.97188878e-04+\n",
    "       2.16301070e-04+ 3.01720922e-05+ 2.39793038e-05+ 6.40257532e-06+\n",
    "       3.60517357e-06 + 1.62534651e-07+ 3.64651200e-08+ 6.50692180e-08)"
   ]
  },
  {
   "cell_type": "code",
   "execution_count": 33,
   "id": "58336612-f205-4ed6-9547-6e136ec1748b",
   "metadata": {
    "tags": []
   },
   "outputs": [
    {
     "data": {
      "text/plain": [
       "0.06139865969019552"
      ]
     },
     "execution_count": 33,
     "metadata": {},
     "output_type": "execute_result"
    }
   ],
   "source": [
    "2.05182745e-02/(2.00527297e-01+ 9.41436471e-02+ 2.05182745e-02+ 7.99779134e-03+\n",
    "       4.90401510e-03+ 3.24594214e-03+ 2.06626634e-03+ 4.97188878e-04+\n",
    "       2.16301070e-04+ 3.01720922e-05+ 2.39793038e-05+ 6.40257532e-06+\n",
    "       3.60517357e-06 + 1.62534651e-07+ 3.64651200e-08+ 6.50692180e-08)"
   ]
  },
  {
   "cell_type": "code",
   "execution_count": 45,
   "id": "454767ff-8409-44de-aaa7-9ce25f6fc750",
   "metadata": {
    "tags": []
   },
   "outputs": [
    {
     "data": {
      "text/plain": [
       "0.02393250313313884"
      ]
     },
     "execution_count": 45,
     "metadata": {},
     "output_type": "execute_result"
    }
   ],
   "source": [
    "7.99779134e-03/(2.00527297e-01+ 9.41436471e-02+ 2.05182745e-02+ 7.99779134e-03+\n",
    "       4.90401510e-03+ 3.24594214e-03+ 2.06626634e-03+ 4.97188878e-04+\n",
    "       2.16301070e-04+ 3.01720922e-05+ 2.39793038e-05+ 6.40257532e-06+\n",
    "       3.60517357e-06 + 1.62534651e-07+ 3.64651200e-08+ 6.50692180e-08)"
   ]
  },
  {
   "cell_type": "code",
   "execution_count": 46,
   "id": "b7dd648b-f130-4022-a65e-77e93d5516df",
   "metadata": {
    "tags": []
   },
   "outputs": [
    {
     "data": {
      "text/plain": [
       "0.014674721026881679"
      ]
     },
     "execution_count": 46,
     "metadata": {},
     "output_type": "execute_result"
    }
   ],
   "source": [
    "4.90401510e-03/(2.00527297e-01+ 9.41436471e-02+ 2.05182745e-02+ 7.99779134e-03+\n",
    "       4.90401510e-03+ 3.24594214e-03+ 2.06626634e-03+ 4.97188878e-04+\n",
    "       2.16301070e-04+ 3.01720922e-05+ 2.39793038e-05+ 6.40257532e-06+\n",
    "       3.60517357e-06 + 1.62534651e-07+ 3.64651200e-08+ 6.50692180e-08)"
   ]
  },
  {
   "cell_type": "code",
   "execution_count": 28,
   "id": "e343f5e2-d181-41d2-a17a-5ca140c2d6a1",
   "metadata": {
    "tags": []
   },
   "outputs": [
    {
     "data": {
      "text/plain": [
       "array([8.87463018e+00, 4.22895571e+00, 1.28105028e+00, 8.18252847e-01,\n",
       "       4.38286865e-01, 1.83961749e-01, 1.11624116e-01, 5.20132000e-02,\n",
       "       8.26026072e-03, 1.45388993e-03, 1.05418870e-03, 2.93982938e-04,\n",
       "       1.48794566e-04, 1.00102669e-05, 1.78479176e-06, 2.14611338e-06])"
      ]
     },
     "execution_count": 28,
     "metadata": {},
     "output_type": "execute_result"
    }
   ],
   "source": [
    "valp"
   ]
  },
  {
   "cell_type": "code",
   "execution_count": 29,
   "id": "8bd747f5-b3fb-44f1-84ec-c175e18eb883",
   "metadata": {
    "tags": []
   },
   "outputs": [],
   "source": [
    "v=np.array([7.99779134e+02,\n",
    "       4.90401510e+02, 3.24594214e+02, 2.06626634e+02, 4.97188878e+01,\n",
    "       2.16301070e+01, 3.01720922e+00, 2.39793038e+00, 6.40257532e-01,\n",
    "       3.60517357e-01, 1.62534651e-02, 3.64651200e-03, 6.50692180e-03])"
   ]
  },
  {
   "cell_type": "code",
   "execution_count": 30,
   "id": "8adf2d0f-6676-4916-a208-3c3029bfd53d",
   "metadata": {
    "tags": []
   },
   "outputs": [
    {
     "data": {
      "text/plain": [
       "array([7.99779134e+02, 4.90401510e+02, 3.24594214e+02, 2.06626634e+02,\n",
       "       4.97188878e+01, 2.16301070e+01, 3.01720922e+00, 2.39793038e+00,\n",
       "       6.40257532e-01, 3.60517357e-01, 1.62534651e-02, 3.64651200e-03,\n",
       "       6.50692180e-03])"
      ]
     },
     "execution_count": 30,
     "metadata": {},
     "output_type": "execute_result"
    }
   ],
   "source": [
    "v"
   ]
  },
  {
   "cell_type": "code",
   "execution_count": 43,
   "id": "fad7f756-14ce-40d1-a8ae-424584eb9cb4",
   "metadata": {
    "tags": []
   },
   "outputs": [
    {
     "data": {
      "image/png": "[encoded data removed]",
      "text/plain": [
       "<Figure size 1000x600 with 1 Axes>"
      ]
     },
     "metadata": {},
     "output_type": "display_data"
    }
   ],
   "source": [
    "import matplotlib.pyplot as plt\n",
    "\n",
    "\n",
    "sorted_indices = np.argsort(pourcentages_variance)[::-1]\n",
    "sorted_pourcentages = pourcentages_variance[sorted_indices]\n",
    "\n",
    "# Création du diagramme de Pareto\n",
    "plt.figure(figsize=(10, 6))\n",
    "plt.bar(range(len(sorted_pourcentages)), sorted_pourcentages, align='center')\n",
    "plt.xticks(range(len(sorted_pourcentages)), sorted_indices + 1)\n",
    "plt.xlabel('Composantes Principales')\n",
    "plt.ylabel('Pourcentage de Variance Expliquée')\n",
    "plt.title('Diagramme de Pareto')\n",
    "plt.show()"
   ]
  },
  {
   "cell_type": "code",
   "execution_count": 44,
   "id": "3b44a851-0aed-456f-9957-aa034e8374a6",
   "metadata": {
    "tags": []
   },
   "outputs": [
    {
     "data": {
      "image/png": "[encoded data removed]",
      "text/plain": [
       "<Figure size 640x480 with 1 Axes>"
      ]
     },
     "metadata": {},
     "output_type": "display_data"
    }
   ],
   "source": [
    "import matplotlib.pyplot as plt\n",
    "\n",
    "# An \"interface\" to matplotlib.axes.Axes.hist() method\n",
    "n, bins, patches = plt.hist(valp*100, bins='auto', color='#0504aa',\n",
    "                            alpha=0.7, rwidth=0.85)\n",
    "plt.grid(axis='y', alpha=0.75)\n",
    "plt.xlabel('Composantes')\n",
    "plt.ylabel('Variance')\n",
    "plt.title('PCA')\n",
    "plt.text(23, 45, r'$\\mu=15, b=3$')\n",
    "maxfreq = n.max()\n",
    "# Set a clean upper y-axis limit."
   ]
  },
  {
   "cell_type": "code",
   "execution_count": 45,
   "id": "1d72237f-9145-4248-b72f-c9544f6bc4f7",
   "metadata": {
    "tags": []
   },
   "outputs": [
    {
     "data": {
      "text/plain": [
       "array([ 0.28245796,  0.24588202, -0.06144668, -0.03154619, -0.09132562,\n",
       "       -0.36639003,  0.12504486,  0.07174792,  0.03506657, -0.39041952,\n",
       "       -0.17768648,  0.05448423,  0.04629489,  0.65572795,  0.23143593,\n",
       "        0.13319028])"
      ]
     },
     "execution_count": 45,
     "metadata": {},
     "output_type": "execute_result"
    }
   ],
   "source": [
    "feature_vector= vecp[0]\n",
    "feature_vector"
   ]
  },
  {
   "cell_type": "code",
   "execution_count": 46,
   "id": "02172ec5-1fd7-4ae9-baee-fc93e64d74ec",
   "metadata": {
    "tags": []
   },
   "outputs": [
    {
     "data": {
      "text/plain": [
       "array([ 0.28245796,  0.24588202, -0.06144668, -0.03154619, -0.09132562,\n",
       "       -0.36639003,  0.12504486,  0.07174792,  0.03506657, -0.39041952,\n",
       "       -0.17768648,  0.05448423,  0.04629489,  0.65572795,  0.23143593,\n",
       "        0.13319028])"
      ]
     },
     "execution_count": 46,
     "metadata": {},
     "output_type": "execute_result"
    }
   ],
   "source": [
    "x = feature_vector.transpose()\n",
    "x"
   ]
  },
  {
   "cell_type": "code",
   "execution_count": 47,
   "id": "79b529d2-e4cd-41fa-9df5-a0abce09ffe5",
   "metadata": {
    "tags": []
   },
   "outputs": [
    {
     "data": {
      "text/html": [
       "<div>\n",
       "<style scoped>\n",
       "    .dataframe tbody tr th:only-of-type {\n",
       "        vertical-align: middle;\n",
       "    }\n",
       "\n",
       "    .dataframe tbody tr th {\n",
       "        vertical-align: top;\n",
       "    }\n",
       "\n",
       "    .dataframe thead th {\n",
       "        text-align: right;\n",
       "    }\n",
       "</style>\n",
       "<table border=\"1\" class=\"dataframe\">\n",
       "  <thead>\n",
       "    <tr style=\"text-align: right;\">\n",
       "      <th></th>\n",
       "      <th>Area</th>\n",
       "      <th>Perimeter</th>\n",
       "      <th>MajorAxisLength</th>\n",
       "      <th>MinorAxisLength</th>\n",
       "      <th>AspectRation</th>\n",
       "      <th>Eccentricity</th>\n",
       "      <th>ConvexArea</th>\n",
       "      <th>EquivDiameter</th>\n",
       "      <th>Extent</th>\n",
       "      <th>Solidity</th>\n",
       "      <th>roundness</th>\n",
       "      <th>Compactness</th>\n",
       "      <th>ShapeFactor1</th>\n",
       "      <th>ShapeFactor2</th>\n",
       "      <th>ShapeFactor3</th>\n",
       "      <th>ShapeFactor4</th>\n",
       "    </tr>\n",
       "  </thead>\n",
       "  <tbody>\n",
       "    <tr>\n",
       "      <th>0</th>\n",
       "      <td>-0.237467</td>\n",
       "      <td>-0.281111</td>\n",
       "      <td>0.080283</td>\n",
       "      <td>0.019910</td>\n",
       "      <td>0.142924</td>\n",
       "      <td>0.800797</td>\n",
       "      <td>-0.105215</td>\n",
       "      <td>-0.076290</td>\n",
       "      <td>0.010137</td>\n",
       "      <td>-0.143518</td>\n",
       "      <td>-0.252993</td>\n",
       "      <td>0.100199</td>\n",
       "      <td>0.031516</td>\n",
       "      <td>1.575114</td>\n",
       "      <td>0.445665</td>\n",
       "      <td>0.111659</td>\n",
       "    </tr>\n",
       "    <tr>\n",
       "      <th>1</th>\n",
       "      <td>-0.234202</td>\n",
       "      <td>-0.249296</td>\n",
       "      <td>0.085771</td>\n",
       "      <td>0.013705</td>\n",
       "      <td>0.179885</td>\n",
       "      <td>1.350479</td>\n",
       "      <td>-0.103296</td>\n",
       "      <td>-0.074918</td>\n",
       "      <td>0.024457</td>\n",
       "      <td>0.180721</td>\n",
       "      <td>-0.041054</td>\n",
       "      <td>0.135958</td>\n",
       "      <td>0.017034</td>\n",
       "      <td>2.033268</td>\n",
       "      <td>0.622471</td>\n",
       "      <td>0.102704</td>\n",
       "    </tr>\n",
       "    <tr>\n",
       "      <th>2</th>\n",
       "      <td>-0.227980</td>\n",
       "      <td>-0.265255</td>\n",
       "      <td>0.076950</td>\n",
       "      <td>0.018477</td>\n",
       "      <td>0.138289</td>\n",
       "      <td>0.749363</td>\n",
       "      <td>-0.101121</td>\n",
       "      <td>-0.072325</td>\n",
       "      <td>0.020275</td>\n",
       "      <td>-0.202393</td>\n",
       "      <td>-0.222609</td>\n",
       "      <td>0.096153</td>\n",
       "      <td>0.027921</td>\n",
       "      <td>1.465558</td>\n",
       "      <td>0.426140</td>\n",
       "      <td>0.122098</td>\n",
       "    </tr>\n",
       "    <tr>\n",
       "      <th>3</th>\n",
       "      <td>-0.221931</td>\n",
       "      <td>-0.240271</td>\n",
       "      <td>0.078577</td>\n",
       "      <td>0.013857</td>\n",
       "      <td>0.159049</td>\n",
       "      <td>1.004682</td>\n",
       "      <td>-0.096778</td>\n",
       "      <td>-0.069832</td>\n",
       "      <td>0.023538</td>\n",
       "      <td>0.875197</td>\n",
       "      <td>-0.091514</td>\n",
       "      <td>0.113416</td>\n",
       "      <td>0.018597</td>\n",
       "      <td>1.649144</td>\n",
       "      <td>0.510124</td>\n",
       "      <td>-0.026369</td>\n",
       "    </tr>\n",
       "    <tr>\n",
       "      <th>4</th>\n",
       "      <td>-0.220659</td>\n",
       "      <td>-0.269817</td>\n",
       "      <td>0.084822</td>\n",
       "      <td>0.008412</td>\n",
       "      <td>0.193420</td>\n",
       "      <td>1.661528</td>\n",
       "      <td>-0.098067</td>\n",
       "      <td>-0.069312</td>\n",
       "      <td>0.016692</td>\n",
       "      <td>-0.314187</td>\n",
       "      <td>-0.333149</td>\n",
       "      <td>0.150661</td>\n",
       "      <td>0.005475</td>\n",
       "      <td>2.144796</td>\n",
       "      <td>0.697398</td>\n",
       "      <td>0.125146</td>\n",
       "    </tr>\n",
       "    <tr>\n",
       "      <th>...</th>\n",
       "      <td>...</td>\n",
       "      <td>...</td>\n",
       "      <td>...</td>\n",
       "      <td>...</td>\n",
       "      <td>...</td>\n",
       "      <td>...</td>\n",
       "      <td>...</td>\n",
       "      <td>...</td>\n",
       "      <td>...</td>\n",
       "      <td>...</td>\n",
       "      <td>...</td>\n",
       "      <td>...</td>\n",
       "      <td>...</td>\n",
       "      <td>...</td>\n",
       "      <td>...</td>\n",
       "      <td>...</td>\n",
       "    </tr>\n",
       "    <tr>\n",
       "      <th>13606</th>\n",
       "      <td>-0.105486</td>\n",
       "      <td>-0.109680</td>\n",
       "      <td>0.022530</td>\n",
       "      <td>0.011453</td>\n",
       "      <td>0.011297</td>\n",
       "      <td>-0.056181</td>\n",
       "      <td>-0.047289</td>\n",
       "      <td>-0.026126</td>\n",
       "      <td>-0.025117</td>\n",
       "      <td>-0.267105</td>\n",
       "      <td>-0.129328</td>\n",
       "      <td>0.001767</td>\n",
       "      <td>0.012102</td>\n",
       "      <td>0.036476</td>\n",
       "      <td>-0.001408</td>\n",
       "      <td>0.101329</td>\n",
       "    </tr>\n",
       "    <tr>\n",
       "      <th>13607</th>\n",
       "      <td>-0.105447</td>\n",
       "      <td>-0.112201</td>\n",
       "      <td>0.027653</td>\n",
       "      <td>0.008108</td>\n",
       "      <td>0.039541</td>\n",
       "      <td>0.060504</td>\n",
       "      <td>-0.047348</td>\n",
       "      <td>-0.026113</td>\n",
       "      <td>0.035869</td>\n",
       "      <td>-0.302324</td>\n",
       "      <td>-0.145486</td>\n",
       "      <td>0.019766</td>\n",
       "      <td>0.005110</td>\n",
       "      <td>0.186952</td>\n",
       "      <td>0.075999</td>\n",
       "      <td>0.096248</td>\n",
       "    </tr>\n",
       "    <tr>\n",
       "      <th>13608</th>\n",
       "      <td>-0.105081</td>\n",
       "      <td>-0.110110</td>\n",
       "      <td>0.027679</td>\n",
       "      <td>0.007774</td>\n",
       "      <td>0.040969</td>\n",
       "      <td>0.067025</td>\n",
       "      <td>-0.047033</td>\n",
       "      <td>-0.025986</td>\n",
       "      <td>-0.014145</td>\n",
       "      <td>-0.230874</td>\n",
       "      <td>-0.134765</td>\n",
       "      <td>0.020187</td>\n",
       "      <td>0.004827</td>\n",
       "      <td>0.189633</td>\n",
       "      <td>0.077836</td>\n",
       "      <td>0.051976</td>\n",
       "    </tr>\n",
       "    <tr>\n",
       "      <th>13609</th>\n",
       "      <td>-0.105004</td>\n",
       "      <td>-0.104995</td>\n",
       "      <td>0.026358</td>\n",
       "      <td>0.008414</td>\n",
       "      <td>0.034770</td>\n",
       "      <td>0.039188</td>\n",
       "      <td>-0.046621</td>\n",
       "      <td>-0.025959</td>\n",
       "      <td>-0.031678</td>\n",
       "      <td>-0.056108</td>\n",
       "      <td>-0.103366</td>\n",
       "      <td>0.015533</td>\n",
       "      <td>0.006569</td>\n",
       "      <td>0.149746</td>\n",
       "      <td>0.057619</td>\n",
       "      <td>0.004853</td>\n",
       "    </tr>\n",
       "    <tr>\n",
       "      <th>13610</th>\n",
       "      <td>-0.104889</td>\n",
       "      <td>-0.095290</td>\n",
       "      <td>0.017926</td>\n",
       "      <td>0.014076</td>\n",
       "      <td>-0.013550</td>\n",
       "      <td>-0.142563</td>\n",
       "      <td>-0.046903</td>\n",
       "      <td>-0.025919</td>\n",
       "      <td>0.028025</td>\n",
       "      <td>-0.209858</td>\n",
       "      <td>-0.045074</td>\n",
       "      <td>-0.013125</td>\n",
       "      <td>0.017939</td>\n",
       "      <td>-0.083783</td>\n",
       "      <td>-0.063985</td>\n",
       "      <td>0.095057</td>\n",
       "    </tr>\n",
       "  </tbody>\n",
       "</table>\n",
       "<p>13611 rows × 16 columns</p>\n",
       "</div>"
      ],
      "text/plain": [
       "           Area  Perimeter  MajorAxisLength  MinorAxisLength  AspectRation  \\\n",
       "0     -0.237467  -0.281111         0.080283         0.019910      0.142924   \n",
       "1     -0.234202  -0.249296         0.085771         0.013705      0.179885   \n",
       "2     -0.227980  -0.265255         0.076950         0.018477      0.138289   \n",
       "3     -0.221931  -0.240271         0.078577         0.013857      0.159049   \n",
       "4     -0.220659  -0.269817         0.084822         0.008412      0.193420   \n",
       "...         ...        ...              ...              ...           ...   \n",
       "13606 -0.105486  -0.109680         0.022530         0.011453      0.011297   \n",
       "13607 -0.105447  -0.112201         0.027653         0.008108      0.039541   \n",
       "13608 -0.105081  -0.110110         0.027679         0.007774      0.040969   \n",
       "13609 -0.105004  -0.104995         0.026358         0.008414      0.034770   \n",
       "13610 -0.104889  -0.095290         0.017926         0.014076     -0.013550   \n",
       "\n",
       "       Eccentricity  ConvexArea  EquivDiameter    Extent  Solidity  roundness  \\\n",
       "0          0.800797   -0.105215      -0.076290  0.010137 -0.143518  -0.252993   \n",
       "1          1.350479   -0.103296      -0.074918  0.024457  0.180721  -0.041054   \n",
       "2          0.749363   -0.101121      -0.072325  0.020275 -0.202393  -0.222609   \n",
       "3          1.004682   -0.096778      -0.069832  0.023538  0.875197  -0.091514   \n",
       "4          1.661528   -0.098067      -0.069312  0.016692 -0.314187  -0.333149   \n",
       "...             ...         ...            ...       ...       ...        ...   \n",
       "13606     -0.056181   -0.047289      -0.026126 -0.025117 -0.267105  -0.129328   \n",
       "13607      0.060504   -0.047348      -0.026113  0.035869 -0.302324  -0.145486   \n",
       "13608      0.067025   -0.047033      -0.025986 -0.014145 -0.230874  -0.134765   \n",
       "13609      0.039188   -0.046621      -0.025959 -0.031678 -0.056108  -0.103366   \n",
       "13610     -0.142563   -0.046903      -0.025919  0.028025 -0.209858  -0.045074   \n",
       "\n",
       "       Compactness  ShapeFactor1  ShapeFactor2  ShapeFactor3  ShapeFactor4  \n",
       "0         0.100199      0.031516      1.575114      0.445665      0.111659  \n",
       "1         0.135958      0.017034      2.033268      0.622471      0.102704  \n",
       "2         0.096153      0.027921      1.465558      0.426140      0.122098  \n",
       "3         0.113416      0.018597      1.649144      0.510124     -0.026369  \n",
       "4         0.150661      0.005475      2.144796      0.697398      0.125146  \n",
       "...            ...           ...           ...           ...           ...  \n",
       "13606     0.001767      0.012102      0.036476     -0.001408      0.101329  \n",
       "13607     0.019766      0.005110      0.186952      0.075999      0.096248  \n",
       "13608     0.020187      0.004827      0.189633      0.077836      0.051976  \n",
       "13609     0.015533      0.006569      0.149746      0.057619      0.004853  \n",
       "13610    -0.013125      0.017939     -0.083783     -0.063985      0.095057  \n",
       "\n",
       "[13611 rows x 16 columns]"
      ]
     },
     "execution_count": 47,
     "metadata": {},
     "output_type": "execute_result"
    }
   ],
   "source": [
    "Xnew = x.transpose() * df\n",
    "Xnew"
   ]
  },
  {
   "cell_type": "code",
   "execution_count": 48,
   "id": "383def8c-a27a-4a0e-bf0b-4f369009c801",
   "metadata": {
    "tags": []
   },
   "outputs": [
    {
     "name": "stdout",
     "output_type": "stream",
     "text": [
      "[[0 1 2]\n",
      " [0 1 2]\n",
      " [0 1 2]\n",
      " [0 1 2]]\n",
      "[[0 1 2]\n",
      " [0 1 2]\n",
      " [0 1 2]\n",
      " [0 1 2]]\n"
     ]
    }
   ],
   "source": [
    "a = np.array([[1, 1, 1],\n",
    "              [1, 1, 1],\n",
    "              [1, 1, 1],\n",
    "              [1, 1, 1]])\n",
    "b=np.array([0,1,2])\n",
    "m= b.transpose() * a\n",
    "n= b*a \n",
    "print(m)\n",
    "print(n)"
   ]
  },
  {
   "cell_type": "code",
   "execution_count": 49,
   "id": "7bc8e65a-4d1f-4b26-84aa-54bccfaf5e37",
   "metadata": {
    "tags": []
   },
   "outputs": [
    {
     "name": "stdout",
     "output_type": "stream",
     "text": [
      "[0 1 2]\n",
      "[0 1 2]\n"
     ]
    }
   ],
   "source": [
    "print(b)\n",
    "print(b.transpose())"
   ]
  },
  {
   "cell_type": "code",
   "execution_count": 50,
   "id": "7a49cf47-f495-4ab5-9278-d6ca9240e789",
   "metadata": {
    "tags": []
   },
   "outputs": [
    {
     "data": {
      "text/plain": [
       "array([ 0.28245796,  0.24588202, -0.06144668, -0.03154619, -0.09132562,\n",
       "       -0.36639003,  0.12504486,  0.07174792,  0.03506657, -0.39041952,\n",
       "       -0.17768648,  0.05448423,  0.04629489,  0.65572795,  0.23143593,\n",
       "        0.13319028])"
      ]
     },
     "execution_count": 50,
     "metadata": {},
     "output_type": "execute_result"
    }
   ],
   "source": [
    "feature_vector"
   ]
  },
  {
   "cell_type": "code",
   "execution_count": 66,
   "id": "b771d079-c7b3-4713-96ea-bec1312fbe70",
   "metadata": {
    "tags": []
   },
   "outputs": [],
   "source": [
    "df = pd.read_csv(\"C:/Users/erimo/Downloads/Dry_Bean_Dataset.csv\")"
   ]
  },
  {
   "cell_type": "code",
   "execution_count": 68,
   "id": "7f368a2e",
   "metadata": {},
   "outputs": [],
   "source": [
    "del df['Class']"
   ]
  },
  {
   "cell_type": "code",
   "execution_count": 69,
   "id": "0d833f0d",
   "metadata": {},
   "outputs": [],
   "source": [
    "from sklearn.preprocessing import StandardScaler\n",
    "std_scaler = StandardScaler()\n",
    "scaled_df = std_scaler.fit_transform(df)"
   ]
  },
  {
   "cell_type": "code",
   "execution_count": 59,
   "id": "cf4a1272",
   "metadata": {},
   "outputs": [
    {
     "data": {
      "text/plain": [
       "array([[-0.84074853, -1.1433189 , -1.30659814, ...,  2.4021726 ,\n",
       "         1.92572347,  0.83837102],\n",
       "       [-0.82918764, -1.01392388, -1.39591111, ...,  3.10089364,\n",
       "         2.68970162,  0.77113831],\n",
       "       [-0.80715717, -1.07882906, -1.25235661, ...,  2.23509111,\n",
       "         1.84135576,  0.91675506],\n",
       "       ...,\n",
       "       [-0.37203825, -0.44783294, -0.45047814, ...,  0.28920501,\n",
       "         0.33632829,  0.39025106],\n",
       "       [-0.37176543, -0.42702856, -0.42897404, ...,  0.22837456,\n",
       "         0.2489734 ,  0.03644007],\n",
       "       [-0.37135619, -0.38755718, -0.2917356 , ..., -0.12777538,\n",
       "        -0.27648141,  0.71371941]])"
      ]
     },
     "execution_count": 59,
     "metadata": {},
     "output_type": "execute_result"
    }
   ],
   "source": [
    "scaled_df"
   ]
  },
  {
   "cell_type": "code",
   "execution_count": 60,
   "id": "d1bfa237",
   "metadata": {},
   "outputs": [
    {
     "data": {
      "text/plain": [
       "array([[-4.98156089],\n",
       "       [-5.43679235],\n",
       "       [-4.75808821],\n",
       "       ...,\n",
       "       [-1.41751491],\n",
       "       [-1.11466563],\n",
       "       [-0.76643691]])"
      ]
     },
     "execution_count": 60,
     "metadata": {},
     "output_type": "execute_result"
    }
   ],
   "source": [
    "from sklearn.decomposition import PCA\n",
    "pca = PCA(n_components=1)\n",
    "pca.fit_transform(scaled_df)"
   ]
  },
  {
   "cell_type": "code",
   "execution_count": 61,
   "id": "6b108878",
   "metadata": {},
   "outputs": [
    {
     "name": "stdout",
     "output_type": "stream",
     "text": [
      "[[ 0.28245796  0.31089112  0.32582398  0.23619938  0.22929833  0.23152605\n",
      "   0.28319989  0.29748384 -0.05980796 -0.14301631 -0.24816481 -0.238378\n",
      "  -0.2213189  -0.31462459 -0.2389833  -0.19800943]]\n"
     ]
    }
   ],
   "source": [
    "print(pca.components_)\n"
   ]
  },
  {
   "cell_type": "code",
   "execution_count": 62,
   "id": "52072f18",
   "metadata": {},
   "outputs": [
    {
     "name": "stdout",
     "output_type": "stream",
     "text": [
      "0.5546643862762899\n"
     ]
    }
   ],
   "source": [
    "print(sum(pca.explained_variance_ratio_))\n"
   ]
  },
  {
   "cell_type": "code",
   "execution_count": 63,
   "id": "eeddb111",
   "metadata": {},
   "outputs": [],
   "source": [
    "import numpy as np\n",
    "nums = np.arange(16)"
   ]
  },
  {
   "cell_type": "code",
   "execution_count": null,
   "id": "b2fdbd5e",
   "metadata": {},
   "outputs": [],
   "source": [
    "nums"
   ]
  },
  {
   "cell_type": "code",
   "execution_count": 71,
   "id": "d8cc2c2c",
   "metadata": {},
   "outputs": [],
   "source": [
    "var_ratio = []\n",
    "for num in nums:\n",
    "    pca = PCA(n_components=num)\n",
    "    pca.fit(scaled_df)\n",
    "    var_ratio.append(np.sum(pca.explained_variance_ratio_))"
   ]
  },
  {
   "cell_type": "code",
   "execution_count": 65,
   "id": "6be6d117",
   "metadata": {},
   "outputs": [
    {
     "data": {
      "text/plain": [
       "Text(0.5, 1.0, 'n_components vs. Explained Variance Ratio')"
      ]
     },
     "execution_count": 65,
     "metadata": {},
     "output_type": "execute_result"
    },
    {
     "data": {
      "image/png": "[encoded data removed]",
      "text/plain": [
       "<Figure size 600x300 with 1 Axes>"
      ]
     },
     "metadata": {},
     "output_type": "display_data"
    }
   ],
   "source": [
    "import matplotlib.pyplot as plt\n",
    "\n",
    "plt.figure(figsize=(4,2),dpi=150)\n",
    "plt.grid()\n",
    "plt.plot(nums,var_ratio,marker='o')\n",
    "plt.xlabel('n_components')\n",
    "plt.ylabel('Explained variance ratio')\n",
    "plt.title('n_components vs. Explained Variance Ratio')"
   ]
  },
  {
   "cell_type": "code",
   "execution_count": 72,
   "id": "2dc3b1f9",
   "metadata": {},
   "outputs": [],
   "source": [
    "from sklearn.decomposition import FastICA\n"
   ]
  },
  {
   "cell_type": "code",
   "execution_count": 106,
   "id": "5d267c7c",
   "metadata": {},
   "outputs": [],
   "source": [
    "n_components=2\n",
    "ica = FastICA(n_components=n_components)\n",
    "variables = ['Area', 'Perimeter', 'MajorAxisLength', 'MinorAxisLength', 'AspectRation', 'Eccentricity',\n",
    "             'ConvexArea', 'EquivDiameter', 'Extent', 'Solidity', 'roundness', 'Compactness',\n",
    "             'ShapeFactor1', 'ShapeFactor2', 'ShapeFactor3', 'ShapeFactor4']\n"
   ]
  },
  {
   "cell_type": "code",
   "execution_count": 110,
   "id": "43603f0a",
   "metadata": {},
   "outputs": [
    {
     "name": "stdout",
     "output_type": "stream",
     "text": [
      "[[-0.00638868 -0.00344019]\n",
      " [-0.00739302 -0.00062111]\n",
      " [-0.00589179 -0.00391637]\n",
      " ...\n",
      " [-0.0017749  -0.00419415]\n",
      " [-0.00263152 -0.00201331]\n",
      " [-0.00189201 -0.00388172]]\n"
     ]
    }
   ],
   "source": [
    "\n",
    "df = pd.read_csv(\"C:/Users/erimo/Downloads/Dry_Bean_Dataset.csv\")\n",
    "del df['Class']\n",
    "selected_columns = df[variables]\n",
    "sources= ica.fit_transform(selected_columns)\n",
    "print(sources)"
   ]
  },
  {
   "cell_type": "code",
   "execution_count": 109,
   "id": "89130895",
   "metadata": {},
   "outputs": [
    {
     "data": {
      "image/png": "[encoded data removed]",
      "text/plain": [
       "<Figure size 1000x600 with 1 Axes>"
      ]
     },
     "metadata": {},
     "output_type": "display_data"
    }
   ],
   "source": [
    "explained_var_ratio = np.sum(sources ** 2, axis=0) / np.sum(sources ** 2)\n",
    "print()\n",
    "# Trier les indices des composantes en ordre décroissant de variance expliquée\n",
    "sorted_indices = np.argsort(explained_var_ratio)[::-1]\n",
    "sorted_var_ratio = explained_var_ratio[sorted_indices]\n",
    "\n",
    "# Créer le diagramme de Pareto\n",
    "plt.figure(figsize=(10, 6))\n",
    "plt.bar(range(n_components), sorted_var_ratio, align='center', alpha=0.7)\n",
    "plt.xticks(range(n_components), sorted_indices + 1)\n",
    "plt.xlabel('Composantes Principales')\n",
    "plt.ylabel('Pourcentage de Variance Expliquée')\n",
    "plt.title('Diagramme de Pareto des Composantes Principales')\n",
    "plt.grid(axis='y', linestyle='--', alpha=0.7)\n",
    "\n",
    "# Annoter les barres avec les pourcentages\n",
    "for i, ratio in enumerate(sorted_var_ratio):\n",
    "    plt.text(i, ratio + 0.005, f'{ratio*100:.2f}%', ha='center')\n",
    "\n",
    "plt.show()"
   ]
  },
  {
   "cell_type": "code",
   "execution_count": null,
   "id": "72da798a",
   "metadata": {},
   "outputs": [],
   "source": []
  }
 ],
 "metadata": {
  "kernelspec": {
   "display_name": "Python 3 (ipykernel)",
   "language": "python",
   "name": "python3"
  },
  "language_info": {
   "codemirror_mode": {
    "name": "ipython",
    "version": 3
   },
   "file_extension": ".py",
   "mimetype": "text/x-python",
   "name": "python",
   "nbconvert_exporter": "python",
   "pygments_lexer": "ipython3",
   "version": "3.9.13"
  }
 },
 "nbformat": 4,
 "nbformat_minor": 5
}
